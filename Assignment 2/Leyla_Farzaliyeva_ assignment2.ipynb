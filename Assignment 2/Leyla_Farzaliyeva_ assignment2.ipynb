{
 "cells": [
  {
   "cell_type": "markdown",
   "metadata": {},
   "source": [
    "**Notes**:\n",
    "* Feel free to add cells as you need them.\n",
    "* Keep your code clean and readable.\n",
    "* Comments included in this document are just to summarize the question. For full details make sure you read the assignment pdf thoroughly.\n",
    "* Don't forget to rename the file when you finish"
   ]
  },
  {
   "cell_type": "markdown",
   "metadata": {},
   "source": [
    "# EECS 461/ECE 523  | Assignment 2\n",
    "\n",
    "### Assignment Overview: \n",
    "In this assignment, you will be running exploratory analysis on a dataset to better understand it and its features. You will then be processing and preparing the data to apply the machine learning knowledge you’ve obtained through the lectures. This will include creating, analysing and generating predictions with classification models. You are expected to rimarily use Scikit-Learn in the assignment. \n",
    "\n",
    "### Data Set: \n",
    "The data set provided for this assignment contains pixel information of many 28x28 grayscale images of clothing, similar to the MNIST dataset. Each image is labelled as one of  the 10 different pieces of clothing: \n",
    "**class_labels = [T-shirt/top, Trouser, Pullover, Dress, Coat, Sandal, Shirt, Sneaker, Bag, Ankle boot]**\n",
    "\n",
    "The value of a row in the column “label” corresponds to the index of the item in the class_labels list. Data is in CSV format and has already been split into training and test sets for your convenience: train.csv: the training set, test.csv: the test set. "
   ]
  },
  {
   "cell_type": "code",
   "execution_count": 1,
   "metadata": {
    "ExecuteTime": {
     "end_time": "2019-11-22T21:10:19.201922Z",
     "start_time": "2019-11-22T21:10:17.698759Z"
    }
   },
   "outputs": [],
   "source": [
    "import pandas as pd\n",
    "import numpy as np\n",
    "import os\n",
    "import matplotlib as mpl\n",
    "import matplotlib.pyplot as plt"
   ]
  },
  {
   "cell_type": "code",
   "execution_count": 2,
   "metadata": {},
   "outputs": [],
   "source": [
    "#ignore warnings\n",
    "import warnings\n",
    "warnings.filterwarnings('ignore')"
   ]
  },
  {
   "cell_type": "markdown",
   "metadata": {},
   "source": [
    "## DATA PREPARATION & VISUALIZATION \n",
    "\n",
    "In the first part of the assignment, you will analyze the dataset and preprocess it in order to prepare it for using machine learning algorithms. In this data set, our target variable is “label” while the others are our features."
   ]
  },
  {
   "cell_type": "code",
   "execution_count": 3,
   "metadata": {
    "ExecuteTime": {
     "end_time": "2019-11-22T21:51:26.919888Z",
     "start_time": "2019-11-22T21:51:26.912884Z"
    },
    "code_folding": [
     0
    ]
   },
   "outputs": [],
   "source": [
    "class_labels = {\n",
    "     \"T-shirt/top\" : 0,\n",
    "     \"Trouser\" : 1,\n",
    "     \"Pullover\" : 2,\n",
    "     \"Dress\" : 3,\n",
    "     \"Coat\" : 4,\n",
    "     \"Sandal\" : 5,\n",
    "     \"Shirt\" : 6,\n",
    "     \"Sneaker\" : 7,\n",
    "     \"Bag\" : 8,\n",
    "     \"Ankle boot\" : 9\n",
    "}"
   ]
  },
  {
   "cell_type": "code",
   "execution_count": 4,
   "metadata": {},
   "outputs": [],
   "source": [
    "train = pd.read_csv(\"train.csv\", index_col=0)\n",
    "test = pd.read_csv(\"test.csv\", index_col =0)"
   ]
  },
  {
   "cell_type": "code",
   "execution_count": 5,
   "metadata": {},
   "outputs": [
    {
     "data": {
      "text/plain": [
       "(30001, 785)"
      ]
     },
     "execution_count": 5,
     "metadata": {},
     "output_type": "execute_result"
    }
   ],
   "source": [
    "train.shape"
   ]
  },
  {
   "cell_type": "code",
   "execution_count": 6,
   "metadata": {},
   "outputs": [
    {
     "data": {
      "text/plain": [
       "(5001, 785)"
      ]
     },
     "execution_count": 6,
     "metadata": {},
     "output_type": "execute_result"
    }
   ],
   "source": [
    "test.shape"
   ]
  },
  {
   "cell_type": "code",
   "execution_count": 7,
   "metadata": {},
   "outputs": [],
   "source": [
    "#Dataset is big enough. Therefore, we need to do sampling in order to reduce execution time for some parts in assignment. \n",
    "\n",
    "train_reduced = train.sample(frac = 0.20, replace = False, random_state = 0)\n",
    "test_reduced = test.sample(frac = 0.20, replace = False, random_state = 0)\n",
    "\n",
    "#Transforming to DataFrame\n",
    "train_reduced = pd.DataFrame(train_reduced)\n",
    "test_reduced = pd.DataFrame(test_reduced)"
   ]
  },
  {
   "cell_type": "code",
   "execution_count": 8,
   "metadata": {},
   "outputs": [
    {
     "data": {
      "text/plain": [
       "(6000, 785)"
      ]
     },
     "execution_count": 8,
     "metadata": {},
     "output_type": "execute_result"
    }
   ],
   "source": [
    "train_reduced.shape"
   ]
  },
  {
   "cell_type": "code",
   "execution_count": 9,
   "metadata": {},
   "outputs": [
    {
     "data": {
      "text/plain": [
       "(1000, 785)"
      ]
     },
     "execution_count": 9,
     "metadata": {},
     "output_type": "execute_result"
    }
   ],
   "source": [
    "test_reduced.shape"
   ]
  },
  {
   "cell_type": "markdown",
   "metadata": {},
   "source": [
    "### a)  Split your data into X and y:\n",
    "\n",
    "As mentioned, each instance in the training data contains a label value along with 784 pixels. Create two pandas data frames using **train.csv**, one containing all the input features and the other containing the target label only. Name these data frames as **train_x_a** and **train_y** respectively. Repeat the same steps ​using ​test.csv​ to create the variables **test_x, test_y**. "
   ]
  },
  {
   "cell_type": "code",
   "execution_count": 10,
   "metadata": {},
   "outputs": [],
   "source": [
    "train_x_a = train_reduced.drop(\"label\", axis=1)\n",
    "train_y = pd.DataFrame(train_reduced.label) \n",
    "test_x = test_reduced.drop(\"label\", axis=1)\n",
    "test_y = pd.DataFrame(test_reduced.label)"
   ]
  },
  {
   "cell_type": "code",
   "execution_count": 11,
   "metadata": {},
   "outputs": [],
   "source": [
    "#transform train_y and test_y to DataFrame\n",
    "train_y = pd.DataFrame(train_y)\n",
    "test_y = pd.DataFrame(test_y)"
   ]
  },
  {
   "cell_type": "markdown",
   "metadata": {},
   "source": [
    "### b)  Visualizing the data:\n",
    "\n",
    "Write a function **plot_image** that will take a **pandas rows** of pixels as input and plot the resulting 28x28 image. "
   ]
  },
  {
   "cell_type": "code",
   "execution_count": 12,
   "metadata": {
    "ExecuteTime": {
     "end_time": "2019-11-22T21:12:09.087761Z",
     "start_time": "2019-11-22T21:12:09.081918Z"
    }
   },
   "outputs": [],
   "source": [
    "def plot_image(row):\n",
    "    n_images = len(row)\n",
    "    columns = 10\n",
    "    rows = n_images / columns\n",
    "    fig=plt.figure(figsize=(columns*2, rows*2))\n",
    "    for i in range(n_images):\n",
    "        img = row[i].reshape(28,28)\n",
    "        fig.add_subplot(rows, columns, i+1)\n",
    "        plt.imshow(img, cmap='gray')\n",
    "        plt.axis('off')\n",
    "    plt.show()\n"
   ]
  },
  {
   "cell_type": "markdown",
   "metadata": {},
   "source": [
    "### c) Class visualization:\n",
    "\n",
    "Using the function written in (b), plot 3 instances of each class in the training set. "
   ]
  },
  {
   "cell_type": "code",
   "execution_count": 13,
   "metadata": {},
   "outputs": [
    {
     "name": "stdout",
     "output_type": "stream",
     "text": [
      "{'T-shirt/top': 0, 'Trouser': 1, 'Pullover': 2, 'Dress': 3, 'Coat': 4, 'Sandal': 5, 'Shirt': 6, 'Sneaker': 7, 'Bag': 8, 'Ankle boot': 9}\n"
     ]
    },
    {
     "data": {
      "image/png": "[encoded data removed]",
      "text/plain": [
       "<Figure size 1440x432 with 30 Axes>"
      ]
     },
     "metadata": {
      "needs_background": "light"
     },
     "output_type": "display_data"
    }
   ],
   "source": [
    "examples = []\n",
    "# Take 3 of each class labels\n",
    "for k in class_labels.values():\n",
    "    indices = np.where(train_y == k)\n",
    "    row = np.take(train_x_a.values, indices[0][:3], axis=0)\n",
    "    examples = examples + [x for x in row]\n",
    "\n",
    "\n",
    "print(class_labels)\n",
    "plot_image(examples)"
   ]
  },
  {
   "cell_type": "markdown",
   "metadata": {},
   "source": [
    "### d) Average visualization:\n",
    "\n",
    "Using the function written in (b), plot the average image for each class in the training set. The average image for each class is calculated by taking the mean of each pixel column for that class. "
   ]
  },
  {
   "cell_type": "code",
   "execution_count": 14,
   "metadata": {},
   "outputs": [
    {
     "data": {
      "text/plain": [
       "[0, 1, 2, 3, 4, 5, 6, 7, 8, 9]"
      ]
     },
     "execution_count": 14,
     "metadata": {},
     "output_type": "execute_result"
    }
   ],
   "source": [
    "classes = []\n",
    "for i in range(0, len(class_labels)):\n",
    "    classes.append(i)\n",
    "classes"
   ]
  },
  {
   "cell_type": "code",
   "execution_count": 15,
   "metadata": {},
   "outputs": [
    {
     "data": {
      "text/plain": [
       "[16290,\n",
       " 19825,\n",
       " 28367,\n",
       " 4806,\n",
       " 27465,\n",
       " 25516,\n",
       " 10361,\n",
       " 27285,\n",
       " 1169,\n",
       " 1797,\n",
       " 22181,\n",
       " 23436,\n",
       " 13204,\n",
       " 29980,\n",
       " 7476,\n",
       " 11774,\n",
       " 19303,\n",
       " 29497,\n",
       " 883,\n",
       " 22960,\n",
       " 2255,\n",
       " 19668,\n",
       " 2769,\n",
       " 8834,\n",
       " 12301,\n",
       " 25327,\n",
       " 27474,\n",
       " 21787,\n",
       " 23499,\n",
       " 29191,\n",
       " 21452,\n",
       " 20357,\n",
       " 19326,\n",
       " 24990,\n",
       " 28483,\n",
       " 1550,\n",
       " 19765,\n",
       " 20081,\n",
       " 2161,\n",
       " 4984,\n",
       " 21833,\n",
       " 29048,\n",
       " 15195,\n",
       " 12727,\n",
       " 4433,\n",
       " 14845,\n",
       " 27897,\n",
       " 19619,\n",
       " 17516,\n",
       " 1500,\n",
       " 29686,\n",
       " 15078,\n",
       " 28146,\n",
       " 29485,\n",
       " 23494,\n",
       " 16728,\n",
       " 6752,\n",
       " 10054,\n",
       " 6785,\n",
       " 21394,\n",
       " 26924,\n",
       " 4843,\n",
       " 1870,\n",
       " 22131,\n",
       " 9129,\n",
       " 25627,\n",
       " 23020,\n",
       " 19152,\n",
       " 4800,\n",
       " 11759,\n",
       " 13055,\n",
       " 22976,\n",
       " 12077,\n",
       " 23439,\n",
       " 12253,\n",
       " 3226,\n",
       " 16479,\n",
       " 1419,\n",
       " 15634,\n",
       " 25891,\n",
       " 4068,\n",
       " 2972,\n",
       " 24716,\n",
       " 24545,\n",
       " 19754,\n",
       " 11017,\n",
       " 27573,\n",
       " 26354,\n",
       " 28921,\n",
       " 5559,\n",
       " 8277,\n",
       " 8316,\n",
       " 5153,\n",
       " 25890,\n",
       " 3042,\n",
       " 18184,\n",
       " 29546,\n",
       " 29640,\n",
       " 15817,\n",
       " 24473,\n",
       " 16203,\n",
       " 9763,\n",
       " 24244,\n",
       " 10944,\n",
       " 4137,\n",
       " 6497,\n",
       " 28399,\n",
       " 15020,\n",
       " 9115,\n",
       " 11046,\n",
       " 1584,\n",
       " 15234,\n",
       " 14382,\n",
       " 9937,\n",
       " 325,\n",
       " 27164,\n",
       " 14715,\n",
       " 10766,\n",
       " 14414,\n",
       " 7240,\n",
       " 18354,\n",
       " 26674,\n",
       " 15799,\n",
       " 10792,\n",
       " 934,\n",
       " 24711,\n",
       " 23064,\n",
       " 6882,\n",
       " 6783,\n",
       " 17256,\n",
       " 12522,\n",
       " 23848,\n",
       " 20636,\n",
       " 27760,\n",
       " 12804,\n",
       " 6569,\n",
       " 29772,\n",
       " 24692,\n",
       " 7212,\n",
       " 22568,\n",
       " 25917,\n",
       " 260,\n",
       " 10390,\n",
       " 24531,\n",
       " 12956,\n",
       " 25860,\n",
       " 25847,\n",
       " 11139,\n",
       " 6727,\n",
       " 17071,\n",
       " 17971,\n",
       " 5772,\n",
       " 23854,\n",
       " 16245,\n",
       " 1220,\n",
       " 28330,\n",
       " 15427,\n",
       " 10377,\n",
       " 29520,\n",
       " 3311,\n",
       " 4112,\n",
       " 15366,\n",
       " 17721,\n",
       " 23293,\n",
       " 22577,\n",
       " 1893,\n",
       " 2156,\n",
       " 15028,\n",
       " 24243,\n",
       " 7238,\n",
       " 5921,\n",
       " 13501,\n",
       " 10109,\n",
       " 28575,\n",
       " 6217,\n",
       " 17571,\n",
       " 14945,\n",
       " 10628,\n",
       " 15009,\n",
       " 1412,\n",
       " 8933,\n",
       " 15788,\n",
       " 5385,\n",
       " 26665,\n",
       " 26059,\n",
       " 15693,\n",
       " 9369,\n",
       " 439,\n",
       " 25901,\n",
       " 15873,\n",
       " 29176,\n",
       " 13082,\n",
       " 25756,\n",
       " 9048,\n",
       " 26548,\n",
       " 9958,\n",
       " 24147,\n",
       " 5112,\n",
       " 9461,\n",
       " 21163,\n",
       " 21726,\n",
       " 11434,\n",
       " 8210,\n",
       " 28545,\n",
       " 11416,\n",
       " 13505,\n",
       " 3131,\n",
       " 22607,\n",
       " 16477,\n",
       " 5951,\n",
       " 22913,\n",
       " 29597,\n",
       " 15271,\n",
       " 2099,\n",
       " 28771,\n",
       " 5224,\n",
       " 2910,\n",
       " 2894,\n",
       " 12336,\n",
       " 17904,\n",
       " 15525,\n",
       " 15459,\n",
       " 15255,\n",
       " 10481,\n",
       " 21941,\n",
       " 18652,\n",
       " 28649,\n",
       " 20980,\n",
       " 2571,\n",
       " 11098,\n",
       " 24326,\n",
       " 29167,\n",
       " 20947,\n",
       " 18905,\n",
       " 8474,\n",
       " 13603,\n",
       " 15540,\n",
       " 12959,\n",
       " 2232,\n",
       " 17795,\n",
       " 10951,\n",
       " 463,\n",
       " 7163,\n",
       " 14452,\n",
       " 11232,\n",
       " 16926,\n",
       " 13240,\n",
       " 2336,\n",
       " 12806,\n",
       " 22475,\n",
       " 12469,\n",
       " 20752,\n",
       " 3103,\n",
       " 14780,\n",
       " 22466,\n",
       " 4114,\n",
       " 17528,\n",
       " 1346,\n",
       " 4738,\n",
       " 14644,\n",
       " 27930,\n",
       " 8510,\n",
       " 29446,\n",
       " 10312,\n",
       " 17776,\n",
       " 25519,\n",
       " 21625,\n",
       " 18518,\n",
       " 3481,\n",
       " 23776,\n",
       " 13052,\n",
       " 6943,\n",
       " 16070,\n",
       " 25947,\n",
       " 19804,\n",
       " 28888,\n",
       " 2921,\n",
       " 13433,\n",
       " 5679,\n",
       " 18607,\n",
       " 29218,\n",
       " 13276,\n",
       " 11123,\n",
       " 4144,\n",
       " 2549,\n",
       " 6256,\n",
       " 24924,\n",
       " 19772,\n",
       " 14028,\n",
       " 14137,\n",
       " 15885,\n",
       " 18875,\n",
       " 18498,\n",
       " 12753,\n",
       " 10641,\n",
       " 14484,\n",
       " 29882,\n",
       " 9441,\n",
       " 3325,\n",
       " 26254,\n",
       " 1801,\n",
       " 21522,\n",
       " 11090,\n",
       " 29345,\n",
       " 20693,\n",
       " 4285,\n",
       " 26787,\n",
       " 19231,\n",
       " 12960,\n",
       " 2018,\n",
       " 278,\n",
       " 29241,\n",
       " 29516,\n",
       " 9090,\n",
       " 8018,\n",
       " 9465,\n",
       " 28445,\n",
       " 2594,\n",
       " 16145,\n",
       " 22966,\n",
       " 12906,\n",
       " 17947,\n",
       " 22492,\n",
       " 5435,\n",
       " 28720,\n",
       " 25263,\n",
       " 15630,\n",
       " 14211,\n",
       " 26700,\n",
       " 13714,\n",
       " 1965,\n",
       " 20749,\n",
       " 22222,\n",
       " 18252,\n",
       " 18295,\n",
       " 26707,\n",
       " 11738,\n",
       " 27129,\n",
       " 2788,\n",
       " 27051,\n",
       " 2204,\n",
       " 11236,\n",
       " 16114,\n",
       " 1143,\n",
       " 25804,\n",
       " 9663,\n",
       " 24852,\n",
       " 7673,\n",
       " 4696,\n",
       " 9829,\n",
       " 22151,\n",
       " 4853,\n",
       " 22645,\n",
       " 316,\n",
       " 25583,\n",
       " 11844,\n",
       " 13490,\n",
       " 506,\n",
       " 24551,\n",
       " 2535,\n",
       " 2039,\n",
       " 692,\n",
       " 6665,\n",
       " 7276,\n",
       " 5285,\n",
       " 21391,\n",
       " 20635,\n",
       " 22116,\n",
       " 19782,\n",
       " 2294,\n",
       " 10423,\n",
       " 21090,\n",
       " 25954,\n",
       " 27714,\n",
       " 9555,\n",
       " 20966,\n",
       " 3673,\n",
       " 14407,\n",
       " 22829,\n",
       " 12608,\n",
       " 7926,\n",
       " 29216,\n",
       " 23968,\n",
       " 2044,\n",
       " 9644,\n",
       " 15991,\n",
       " 11540,\n",
       " 5281,\n",
       " 3822,\n",
       " 3318,\n",
       " 24191,\n",
       " 25836,\n",
       " 587,\n",
       " 13598,\n",
       " 11121,\n",
       " 1710,\n",
       " 14788,\n",
       " 12386,\n",
       " 965,\n",
       " 27654,\n",
       " 15091,\n",
       " 1589,\n",
       " 4606,\n",
       " 23708,\n",
       " 26436,\n",
       " 20033,\n",
       " 3273,\n",
       " 4042,\n",
       " 25053,\n",
       " 12243,\n",
       " 7532,\n",
       " 31,\n",
       " 122,\n",
       " 25307,\n",
       " 30000,\n",
       " 14367,\n",
       " 28166,\n",
       " 11374,\n",
       " 14943,\n",
       " 23416,\n",
       " 27357,\n",
       " 5745,\n",
       " 1603,\n",
       " 17786,\n",
       " 12709,\n",
       " 21327,\n",
       " 24001,\n",
       " 426,\n",
       " 1648,\n",
       " 24385,\n",
       " 26745,\n",
       " 24305,\n",
       " 25800,\n",
       " 13949,\n",
       " 29382,\n",
       " 22388,\n",
       " 28509,\n",
       " 4566,\n",
       " 20090,\n",
       " 9916,\n",
       " 24227,\n",
       " 28256,\n",
       " 17838,\n",
       " 17988,\n",
       " 11927,\n",
       " 9472,\n",
       " 2025,\n",
       " 13284,\n",
       " 17003,\n",
       " 14892,\n",
       " 18727,\n",
       " 11339,\n",
       " 11420,\n",
       " 7628,\n",
       " 25132,\n",
       " 5374,\n",
       " 14763,\n",
       " 23660,\n",
       " 20614,\n",
       " 26162,\n",
       " 11575,\n",
       " 12376,\n",
       " 26323,\n",
       " 12324,\n",
       " 23671,\n",
       " 6965,\n",
       " 15407,\n",
       " 10443,\n",
       " 20665,\n",
       " 12409,\n",
       " 24890,\n",
       " 1556,\n",
       " 8513,\n",
       " 790,\n",
       " 16959,\n",
       " 21461,\n",
       " 21786,\n",
       " 20210,\n",
       " 7363,\n",
       " 917,\n",
       " 18277,\n",
       " 15130,\n",
       " 26038,\n",
       " 14901,\n",
       " 11512,\n",
       " 23871,\n",
       " 4644,\n",
       " 22389,\n",
       " 13719,\n",
       " 15269,\n",
       " 12997,\n",
       " 19438,\n",
       " 11442,\n",
       " 19320,\n",
       " 15922,\n",
       " 12196,\n",
       " 21047,\n",
       " 13301,\n",
       " 29996,\n",
       " 25052,\n",
       " 7086,\n",
       " 11542,\n",
       " 13095,\n",
       " 23793,\n",
       " 20586,\n",
       " 5603,\n",
       " 2817,\n",
       " 18296,\n",
       " 14152,\n",
       " 21695,\n",
       " 15589,\n",
       " 4782,\n",
       " 21865,\n",
       " 1379,\n",
       " 6803,\n",
       " 3895,\n",
       " 9053,\n",
       " 23384,\n",
       " 5212,\n",
       " 21740,\n",
       " 22748,\n",
       " 10615,\n",
       " 6409,\n",
       " 5275,\n",
       " 2069,\n",
       " 27355,\n",
       " 28710,\n",
       " 26546,\n",
       " 7149,\n",
       " 23348,\n",
       " 27534,\n",
       " 25542,\n",
       " 15136,\n",
       " 9342,\n",
       " 21371,\n",
       " 27603,\n",
       " 12831,\n",
       " 7727,\n",
       " 11603,\n",
       " 10702,\n",
       " 19953,\n",
       " 18433,\n",
       " 12115,\n",
       " 26396,\n",
       " 20012,\n",
       " 7346,\n",
       " 9174,\n",
       " 10622,\n",
       " 15068,\n",
       " 1759,\n",
       " 16450,\n",
       " 12786,\n",
       " 18921,\n",
       " 3629,\n",
       " 10462,\n",
       " 18321,\n",
       " 3120,\n",
       " 19426,\n",
       " 6618,\n",
       " 28395,\n",
       " 14530,\n",
       " 3873,\n",
       " 18745,\n",
       " 15408,\n",
       " 8173,\n",
       " 13594,\n",
       " 16214,\n",
       " 28844,\n",
       " 7660,\n",
       " 15740,\n",
       " 17908,\n",
       " 10125,\n",
       " 2607,\n",
       " 13223,\n",
       " 19761,\n",
       " 14238,\n",
       " 25702,\n",
       " 18916,\n",
       " 12363,\n",
       " 3376,\n",
       " 7119,\n",
       " 24799,\n",
       " 21794,\n",
       " 7767,\n",
       " 5861,\n",
       " 5044,\n",
       " 18100,\n",
       " 8923,\n",
       " 18597,\n",
       " 22529,\n",
       " 7420,\n",
       " 27738,\n",
       " 12310,\n",
       " 18899,\n",
       " 6773,\n",
       " 16310,\n",
       " 23936,\n",
       " 28104,\n",
       " 15866,\n",
       " 488,\n",
       " 28142,\n",
       " 27480,\n",
       " 20437,\n",
       " 13584,\n",
       " 5007,\n",
       " 17532,\n",
       " 13632,\n",
       " 1696,\n",
       " 13789,\n",
       " 6925,\n",
       " 22242,\n",
       " 6609,\n",
       " 12928,\n",
       " 16769,\n",
       " 3015,\n",
       " 29656,\n",
       " 1804,\n",
       " 17742,\n",
       " 8946,\n",
       " 16756,\n",
       " 14894,\n",
       " 4528,\n",
       " 16963,\n",
       " 28799,\n",
       " 9512,\n",
       " 20356,\n",
       " 2955,\n",
       " 6226,\n",
       " 27338,\n",
       " 24412,\n",
       " 28590,\n",
       " 21632,\n",
       " 4495]"
      ]
     },
     "execution_count": 15,
     "metadata": {},
     "output_type": "execute_result"
    }
   ],
   "source": [
    "# function for finding the indices of classes\n",
    "def label_index (index):\n",
    "    return(train_y.loc[train_y['label']==classes[index]].index.tolist())\n",
    "label_index(0)"
   ]
  },
  {
   "cell_type": "code",
   "execution_count": 16,
   "metadata": {},
   "outputs": [
    {
     "data": {
      "text/plain": [
       "pixel1       0.000000\n",
       "pixel2       0.027350\n",
       "pixel3       0.027350\n",
       "pixel4       0.027350\n",
       "pixel5       0.027350\n",
       "              ...    \n",
       "pixel780    10.152137\n",
       "pixel781    10.596581\n",
       "pixel782     7.729915\n",
       "pixel783     3.070085\n",
       "pixel784     0.309402\n",
       "Length: 784, dtype: float64"
      ]
     },
     "execution_count": 16,
     "metadata": {},
     "output_type": "execute_result"
    }
   ],
   "source": [
    "#function for finding means of each class in each column\n",
    "def label_mean(index):\n",
    "    return(train_x_a.loc[label_index(index)].mean())\n",
    "label_mean(9)"
   ]
  },
  {
   "cell_type": "code",
   "execution_count": 17,
   "metadata": {},
   "outputs": [
    {
     "name": "stdout",
     "output_type": "stream",
     "text": [
      "[[0.00000000e+00 4.73933649e-03 1.34281201e-01 ... 8.84676145e-02\n",
      "  1.73775671e-02 3.15955766e-03]\n",
      " [0.00000000e+00 0.00000000e+00 0.00000000e+00 ... 3.04568528e-01\n",
      "  5.75296108e-02 0.00000000e+00]\n",
      " [0.00000000e+00 6.67779633e-03 3.33889816e-02 ... 8.85642738e+00\n",
      "  1.64106845e+00 1.93656093e-01]\n",
      " ...\n",
      " [0.00000000e+00 0.00000000e+00 0.00000000e+00 ... 1.06844741e-01\n",
      "  1.31886477e-01 0.00000000e+00]\n",
      " [0.00000000e+00 8.53242321e-03 1.02389078e-02 ... 4.28668942e+00\n",
      "  2.60921502e+00 3.24232082e-01]\n",
      " [0.00000000e+00 2.73504274e-02 2.73504274e-02 ... 7.72991453e+00\n",
      "  3.07008547e+00 3.09401709e-01]]\n"
     ]
    }
   ],
   "source": [
    "#all means of each class to data frame\n",
    "for i in range (0, 10):\n",
    "    a = pd.DataFrame([label_index(i)])\n",
    "label_means = pd.DataFrame([label_mean(0), label_mean(1), label_mean(2), label_mean(3), label_mean(4), label_mean(5), label_mean(6), label_mean(7), label_mean(8), label_mean(9)]).to_numpy()\n",
    "print(label_means)"
   ]
  },
  {
   "cell_type": "code",
   "execution_count": 18,
   "metadata": {},
   "outputs": [
    {
     "data": {
      "image/png": "[encoded data removed]",
      "text/plain": [
       "<Figure size 1440x144 with 10 Axes>"
      ]
     },
     "metadata": {
      "needs_background": "light"
     },
     "output_type": "display_data"
    }
   ],
   "source": [
    "# average image for each class in the training set\n",
    "plot_image(label_means)"
   ]
  },
  {
   "cell_type": "markdown",
   "metadata": {},
   "source": [
    "## BINARY CLASSIFICATION\n",
    "\n",
    "In the second part of the assignment, you will use Logistic Regression to perform binary classification using the pixel features in the dataset."
   ]
  },
  {
   "cell_type": "markdown",
   "metadata": {},
   "source": [
    "### e) Binary transformation:\n",
    "\n",
    "To run binary classification we need to first transform our class labels to binary (0and1). If the item is a piece of clothing (T-shirt/top, Pullover, Shirt, Trouser, Dress, or Coat), label it as 1 and and if the item is non-clothing (Sandal, Sneaker, Bag, or Ankle boot), label it as 0. Store the result in a variable called **train_y_e**. Follow the same steps to create binary labels for the test set’s target column. Name this variable **test_y_e**."
   ]
  },
  {
   "cell_type": "code",
   "execution_count": 19,
   "metadata": {},
   "outputs": [],
   "source": [
    "# piece of clothing classes as 1, others as 0 in train_y set\n",
    "train_y_e = train_y.replace(to_replace = [0, 1, 2, 3, 4, 6], value = 1 )\n",
    "train_y_e = train_y_e.replace(to_replace = [5, 7, 8, 9], value = 0 )"
   ]
  },
  {
   "cell_type": "code",
   "execution_count": 20,
   "metadata": {},
   "outputs": [],
   "source": [
    "# piece of clothing classes as 1, others as 0 in test_y set\n",
    "test_y_e = test_y.replace(to_replace = [0, 1, 2, 3, 4, 6], value = 1 )\n",
    "test_y_e = test_y_e.replace(to_replace = [5, 7, 8, 9], value = 0 )"
   ]
  },
  {
   "cell_type": "markdown",
   "metadata": {},
   "source": [
    "### f) Binary Classification Model\n",
    "\n",
    "Create a Logistic Regression model with default parameters. Perform 5-fold Cross Validation on the training data and report the mean accuracy. "
   ]
  },
  {
   "cell_type": "code",
   "execution_count": 21,
   "metadata": {},
   "outputs": [
    {
     "data": {
      "text/plain": [
       "LogisticRegression()"
      ]
     },
     "execution_count": 21,
     "metadata": {},
     "output_type": "execute_result"
    }
   ],
   "source": [
    "#create a model\n",
    "from sklearn.linear_model import LogisticRegression\n",
    "\n",
    "log_model = LogisticRegression()\n",
    "log_model.fit(train_x_a, train_y_e)"
   ]
  },
  {
   "cell_type": "code",
   "execution_count": 22,
   "metadata": {},
   "outputs": [
    {
     "name": "stdout",
     "output_type": "stream",
     "text": [
      "0.9818333333333333\n"
     ]
    }
   ],
   "source": [
    "#5-fold cross validation\n",
    "from sklearn.model_selection import KFold\n",
    "from sklearn.model_selection import cross_val_score\n",
    "train_mse_score = cross_val_score(log_model, train_x_a, train_y_e, cv=5, scoring = 'accuracy')\n",
    "\n",
    "#print mean accuracy\n",
    "print(train_mse_score.mean())"
   ]
  },
  {
   "cell_type": "markdown",
   "metadata": {},
   "source": [
    "### g) Predict test data:\n",
    "\n",
    "Train the model with **train_x_a** and **train_y_e** and predict the labels of **test_x**. Report the **accuracy, confusion matrix, precision, recall** and **f1 score** of these predictions. "
   ]
  },
  {
   "cell_type": "code",
   "execution_count": 23,
   "metadata": {},
   "outputs": [
    {
     "name": "stdout",
     "output_type": "stream",
     "text": [
      "[1 0 0 1 1 1 0 0 1 1 1 0 1 1 0 1 1 1 1 0 1 1 0 0 0 0 0 0 1 0 1 0 1 1 1 1 0\n",
      " 1 1 1 0 0 0 0 1 1 1 0 1 0 1 1 1 0 0 1 0 1 1 0 1 1 0 0 0 1 0 0 1 1 1 1 0 1\n",
      " 1 0 0 0 1 1 1 1 1 1 1 1 0 1 1 1 0 0 0 1 1 1 1 0 0 1 0 0 0 1 1 1 0 0 1 1 0\n",
      " 0 0 1 0 1 1 1 0 0 1 0 1 1 1 1 0 1 0 1 0 1 0 1 0 1 1 0 1 1 1 0 0 1 1 1 1 0\n",
      " 0 1 1 1 0 0 0 1 1 0 0 1 0 1 1 0 0 1 0 0 0 1 0 1 0 0 1 1 1 1 1 0 1 0 1 0 1\n",
      " 1 1 1 0 1 1 1 1 0 0 1 1 1 0 0 1 1 1 1 1 0 1 1 1 0 1 1 1 1 1 1 1 1 1 1 1 1\n",
      " 1 0 0 0 0 0 1 1 1 1 0 0 0 0 1 0 1 1 1 1 1 1 1 1 0 0 1 1 0 1 0 0 1 0 0 0 1\n",
      " 1 1 1 1 1 0 1 1 1 1 0 1 1 0 1 1 1 0 1 0 0 1 1 0 0 1 1 0 0 1 0 1 0 1 1 0 1\n",
      " 0 0 1 1 0 0 0 0 0 0 0 0 1 1 1 1 0 0 0 0 1 1 1 1 0 1 0 1 0 1 1 1 1 1 1 1 0\n",
      " 1 1 1 1 0 1 1 1 1 1 1 1 1 0 0 0 0 1 0 0 1 1 0 1 0 1 1 1 1 1 1 0 0 1 0 1 1\n",
      " 0 1 1 0 1 0 1 0 1 1 0 1 0 1 1 1 1 0 1 1 1 1 1 0 0 0 1 0 1 0 1 1 0 0 1 1 0\n",
      " 0 0 1 0 1 1 0 0 1 1 1 1 1 0 1 1 1 0 1 0 1 0 1 0 1 1 0 0 0 1 1 0 1 1 0 1 0\n",
      " 1 1 1 1 0 1 0 0 1 1 1 1 0 1 1 1 0 0 0 1 1 0 1 0 1 0 0 0 1 0 1 1 0 1 0 0 1\n",
      " 0 1 0 0 0 0 0 0 1 1 0 0 1 0 0 0 0 1 0 1 1 0 1 1 0 1 0 1 1 1 1 1 1 0 1 1 1\n",
      " 1 0 1 0 1 1 1 1 1 0 1 1 1 1 1 0 0 1 1 0 1 0 0 1 1 1 0 1 1 0 0 0 1 1 0 0 1\n",
      " 1 0 1 1 1 0 1 1 0 1 1 0 0 1 1 0 1 1 0 0 0 1 0 0 1 1 0 1 1 0 1 1 1 0 0 1 1\n",
      " 1 1 1 1 1 0 0 0 1 0 1 1 0 1 0 0 0 0 0 0 1 1 1 1 1 1 0 1 0 1 0 0 1 1 1 1 0\n",
      " 1 1 1 0 0 0 0 1 1 0 0 1 0 0 1 0 1 1 1 1 1 1 0 1 1 0 1 0 0 1 0 1 0 1 0 0 1\n",
      " 1 0 1 1 0 1 1 1 1 1 1 0 1 1 1 1 1 1 1 1 1 1 1 0 1 1 0 1 1 1 1 0 0 1 0 1 1\n",
      " 0 1 0 1 1 1 1 1 1 1 1 0 0 0 0 1 1 0 1 1 0 0 0 0 0 0 1 0 1 0 0 1 0 0 0 1 1\n",
      " 1 1 0 1 1 1 0 1 0 1 1 0 0 1 1 0 0 0 0 1 0 0 1 1 1 1 0 0 1 1 0 0 0 0 0 0 0\n",
      " 1 0 0 1 1 1 0 0 1 0 0 1 1 1 1 0 1 0 1 1 0 1 0 0 1 0 1 1 0 1 1 0 1 1 1 0 0\n",
      " 1 1 0 0 0 0 1 1 1 0 0 1 0 1 1 1 1 0 0 1 0 0 0 1 0 0 1 0 1 0 1 1 0 1 0 1 1\n",
      " 1 0 1 1 0 0 0 0 1 0 1 1 0 1 0 0 0 1 1 0 0 1 0 0 1 0 0 0 0 1 0 1 0 1 1 1 1\n",
      " 1 1 1 1 1 1 1 0 0 1 0 1 1 0 1 1 1 1 0 0 1 0 1 1 1 1 0 1 0 1 0 1 0 0 1 0 1\n",
      " 0 0 1 1 0 1 1 0 0 1 1 1 0 1 1 1 0 1 1 1 1 0 0 0 1 1 1 1 0 0 0 1 1 0 1 1 1\n",
      " 0 1 1 0 1 1 0 1 1 1 1 0 0 1 1 1 1 0 1 1 1 1 0 1 1 1 1 0 1 1 1 0 0 0 1 1 1\n",
      " 0]\n",
      "[[408   3]\n",
      " [  7 582]]\n",
      "Logistic Accuracy:  0.99\n",
      "Logistic Precision:  0.9948717948717949\n",
      "Logistic Recall:  0.9881154499151104\n",
      "Logistic F1 Score:  0.9914821124361158\n"
     ]
    }
   ],
   "source": [
    "from sklearn.metrics import confusion_matrix\n",
    "from sklearn.metrics import accuracy_score\n",
    "from sklearn.metrics import precision_score, recall_score\n",
    "from sklearn.metrics import f1_score\n",
    "\n",
    "# train the model\n",
    "test_y_predict = log_model.predict(test_x)\n",
    "print(test_y_predict)\n",
    "\n",
    "# plot confusion matrix\n",
    "confusion_matrix = confusion_matrix(test_y_e, test_y_predict)\n",
    "print(confusion_matrix)\n",
    "\n",
    "# print(accuracy, precision, recall, f1_score)\n",
    "log_accuracy = accuracy_score(test_y_e, test_y_predict)\n",
    "log_precision = precision_score(test_y_e, test_y_predict)\n",
    "log_recall = recall_score(test_y_e, test_y_predict)\n",
    "log_f1_score = f1_score(test_y_e, test_y_predict)\n",
    "\n",
    "\n",
    "print(\"Logistic Accuracy: \", log_accuracy)\n",
    "print(\"Logistic Precision: \", log_precision)\n",
    "print(\"Logistic Recall: \", log_recall)\n",
    "print(\"Logistic F1 Score: \", log_f1_score)"
   ]
  },
  {
   "cell_type": "markdown",
   "metadata": {},
   "source": [
    "### h) Model evaluation:\n",
    "\n",
    "Plot the above model’s precision-recall curve and ROC curve. Report the ROC area under the curve (AUC) score. "
   ]
  },
  {
   "cell_type": "code",
   "execution_count": 24,
   "metadata": {
    "ExecuteTime": {
     "end_time": "2019-11-22T21:25:45.419533Z",
     "start_time": "2019-11-22T21:25:45.412534Z"
    }
   },
   "outputs": [],
   "source": [
    "from sklearn.metrics import precision_recall_curve\n",
    "precisions, recalls, thresholds = precision_recall_curve(test_y_e, test_y_predict)"
   ]
  },
  {
   "cell_type": "code",
   "execution_count": 25,
   "metadata": {},
   "outputs": [
    {
     "data": {
      "image/png": "[encoded data removed]",
      "text/plain": [
       "<Figure size 576x432 with 1 Axes>"
      ]
     },
     "metadata": {
      "needs_background": "light"
     },
     "output_type": "display_data"
    }
   ],
   "source": [
    "# plot precision-recall curve\n",
    "def plot_precision_vs_recall(precisions, recalls):\n",
    "    plt.plot(recalls, precisions, \"b-\", linewidth=2)\n",
    "    plt.xlabel(\"Recall\", fontsize=16)\n",
    "    plt.ylabel(\"Precision\", fontsize=16)\n",
    "    plt.axis([0, 1, 0, 1])\n",
    "\n",
    "plt.figure(figsize=(8, 6))\n",
    "plot_precision_vs_recall(precisions, recalls)\n",
    "plt.show()"
   ]
  },
  {
   "cell_type": "code",
   "execution_count": 26,
   "metadata": {},
   "outputs": [
    {
     "data": {
      "image/png": "[encoded data removed]",
      "text/plain": [
       "<Figure size 576x432 with 1 Axes>"
      ]
     },
     "metadata": {
      "needs_background": "light"
     },
     "output_type": "display_data"
    }
   ],
   "source": [
    "#plot ROC curve\n",
    "from sklearn.metrics import roc_curve\n",
    "\n",
    "fpr, tpr, thresholds = roc_curve(test_y_e, test_y_predict)\n",
    "\n",
    "def plot_roc_curve(fpr, tpr, label=None):\n",
    "    plt.plot(fpr, tpr, linewidth=2, label=label)\n",
    "    plt.plot([0, 1], [0, 1], 'k--')\n",
    "    plt.axis([0, 1, 0, 1])\n",
    "    plt.xlabel('False Positive Rate', fontsize=16)\n",
    "    plt.ylabel('True Positive Rate', fontsize=16)\n",
    "\n",
    "plt.figure(figsize=(8, 6))\n",
    "plot_roc_curve(fpr, tpr)\n",
    "plt.show()"
   ]
  },
  {
   "cell_type": "code",
   "execution_count": 27,
   "metadata": {},
   "outputs": [
    {
     "data": {
      "text/plain": [
       "0.9904080899210589"
      ]
     },
     "execution_count": 27,
     "metadata": {},
     "output_type": "execute_result"
    }
   ],
   "source": [
    "#print AUC score\n",
    "from sklearn.metrics import roc_auc_score\n",
    "\n",
    "roc_auc_score(test_y_e, test_y_predict)"
   ]
  },
  {
   "cell_type": "markdown",
   "metadata": {},
   "source": [
    "### i) Learning curves:\n",
    "\n",
    "Plot the learning curve of a logistic regression model with default parameters by using train_x_a. Increase the data size by 100 at each step. For both train and validation, report classification accuracy."
   ]
  },
  {
   "cell_type": "code",
   "execution_count": 28,
   "metadata": {},
   "outputs": [
    {
     "data": {
      "image/png": "[encoded data removed]",
      "text/plain": [
       "<Figure size 432x288 with 1 Axes>"
      ]
     },
     "metadata": {
      "needs_background": "light"
     },
     "output_type": "display_data"
    }
   ],
   "source": [
    "#plot learning curve\n",
    "from sklearn.metrics import mean_squared_error\n",
    "from sklearn.model_selection import train_test_split\n",
    "\n",
    "def plot_learning_curves(model, x, y):\n",
    "    train_errors, val_errors = [], [],\n",
    "    X_train, X_val, y_train, y_val = train_test_split(x, y, test_size = 0.2)\n",
    "    for m in range(3, len(train_x_a), 100):\n",
    "        model.fit(train_x_a[:m], train_y[:m])\n",
    "        y_train_predict = model.predict(train_x_a[:m])\n",
    "        y_val_predict = model.predict(test_x)\n",
    "        train_errors.append(accuracy_score(y_train_predict, train_y_e[:m]))\n",
    "        val_errors.append(accuracy_score(y_val_predict, test_y_e))\n",
    "        \n",
    "    plt.plot(train_errors, \"r-+\", linewidth=2, label=\"train\")\n",
    "    plt.plot(val_errors, \"b-\", linewidth=3, label=\"val\")\n",
    "    plt.legend(loc=\"upper right\", fontsize=14)   \n",
    "    plt.xlabel(\"Training set size\", fontsize=14)\n",
    "    plt.ylabel(\"Accuracy\", fontsize=14)              \n",
    "plot_learning_curves(log_model, train_x_a, train_y_e)"
   ]
  },
  {
   "cell_type": "markdown",
   "metadata": {},
   "source": [
    "## MULTICLASS CLASSIFICATION USING LOGISTIC REGRESSION\n",
    "\n",
    "In the third part of the assignment, you will use logistic regression to perform multiclass classification with the original dataset labels. "
   ]
  },
  {
   "cell_type": "markdown",
   "metadata": {},
   "source": [
    "### j) Training and cross validating logistic regression:\n",
    "\n",
    "Use **train_x_a** and **train_y** to perform 3-fold cross validation on a logistic regression model with default parameters. with cv=3. Report the mean accuracy. "
   ]
  },
  {
   "cell_type": "code",
   "execution_count": 29,
   "metadata": {
    "ExecuteTime": {
     "end_time": "2019-11-22T21:27:57.382480Z",
     "start_time": "2019-11-22T21:27:57.378402Z"
    }
   },
   "outputs": [
    {
     "name": "stdout",
     "output_type": "stream",
     "text": [
      "0.8075000000000001\n"
     ]
    }
   ],
   "source": [
    "# 3 fold Cross Validation on train_x_a and train_y\n",
    "from sklearn.linear_model import LogisticRegression\n",
    "\n",
    "log_reg = LogisticRegression()\n",
    "log_acc_score = cross_val_score(log_reg, train_x_a, train_y, cv=3, scoring = 'accuracy')\n",
    "print(log_acc_score.mean())"
   ]
  },
  {
   "cell_type": "markdown",
   "metadata": {},
   "source": [
    "### k) testing logistic regression:\n",
    "\n",
    "Fit a logistic regression model on the training set (**train_x_a, train_y**) and calculate its **test accuracy** by using **test_x**. Print the model’s **confusion matrix** on the test set. "
   ]
  },
  {
   "cell_type": "code",
   "execution_count": 30,
   "metadata": {
    "ExecuteTime": {
     "end_time": "2019-11-22T21:28:35.454236Z",
     "start_time": "2019-11-22T21:28:35.448644Z"
    }
   },
   "outputs": [
    {
     "name": "stdout",
     "output_type": "stream",
     "text": [
      "0.917\n",
      "[4 9 9 6 4 3 8 9 3 1 6 8 1 0 8 1 2 4 3 5 4 1 9 9 7 9 8 5 0 5 4 9 4 6 0 6 5\n",
      " 6 4 0 7 9 7 5 6 0 6 8 2 9 1 0 1 8 8 0 7 3 6 9 6 0 5 5 9 0 8 8 0 4 0 1 4 4\n",
      " 6 7 5 9 0 8 3 1 3 2 1 1 8 2 0 2 5 8 5 0 0 6 0 8 8 1 5 5 9 1 3 1 8 7 4 1 8\n",
      " 7 5 0 9 1 4 3 5 5 2 9 3 0 3 6 3 3 8 3 7 4 9 6 5 0 4 7 4 3 2 5 8 0 2 6 2 9\n",
      " 9 1 3 3 9 8 9 4 4 7 7 4 7 3 4 8 9 1 5 8 8 3 7 1 5 8 2 3 4 6 1 9 2 5 0 7 1\n",
      " 3 1 2 8 1 6 2 2 8 7 1 0 1 5 7 4 4 3 0 1 9 6 2 3 8 0 1 1 0 1 2 4 6 6 2 0 0\n",
      " 0 9 9 9 7 5 1 0 3 3 8 7 8 7 6 8 2 1 1 4 6 2 0 1 8 1 1 6 9 0 8 8 4 5 7 9 6\n",
      " 4 2 1 4 1 8 0 1 2 6 9 2 0 8 4 4 6 9 4 7 9 0 3 7 9 6 4 7 8 4 5 0 7 4 6 8 1\n",
      " 7 8 3 1 5 9 5 9 9 8 8 5 6 2 2 1 9 7 5 7 2 6 1 4 5 6 5 4 8 6 6 1 4 6 4 0 5\n",
      " 1 6 0 2 7 4 0 4 2 3 0 2 2 9 5 5 8 4 1 7 0 1 8 3 5 4 6 1 4 0 1 8 8 1 9 3 6\n",
      " 7 0 3 9 1 7 2 8 3 3 8 6 7 6 0 2 1 8 0 2 1 0 6 7 9 5 6 7 4 8 8 4 8 7 3 1 5\n",
      " 9 5 4 8 2 4 8 9 1 0 2 3 1 7 3 0 0 7 2 5 1 7 0 5 4 1 7 7 5 2 2 5 0 1 5 0 8\n",
      " 4 6 1 6 8 1 5 7 0 0 2 1 5 6 3 4 9 5 5 0 2 9 2 8 1 5 9 7 2 7 0 6 5 3 5 8 1\n",
      " 9 3 8 5 8 5 7 5 3 3 9 5 6 5 7 9 8 4 8 6 0 8 3 2 9 1 5 2 2 6 0 4 0 8 4 1 2\n",
      " 4 8 1 9 3 1 4 4 4 5 3 3 3 3 3 8 7 6 6 7 1 9 5 4 6 0 5 4 6 9 9 5 6 3 7 8 0\n",
      " 1 9 4 6 3 9 4 2 7 6 3 9 8 3 4 5 6 3 9 8 8 2 7 5 3 0 9 3 3 5 3 1 6 8 7 3 4\n",
      " 1 2 4 0 3 7 8 9 2 9 1 4 8 3 7 8 8 8 5 5 6 2 6 2 4 6 9 4 5 6 7 8 4 4 6 2 8\n",
      " 1 2 3 9 9 8 7 1 0 7 9 3 7 8 2 9 6 2 0 3 2 0 5 3 2 9 3 7 7 3 7 0 9 0 4 7 6\n",
      " 2 9 4 0 5 2 2 1 2 0 0 9 1 3 1 2 4 1 0 2 6 1 6 9 6 3 9 3 4 4 2 5 7 2 8 0 1\n",
      " 7 2 7 4 1 2 4 1 2 2 1 8 8 7 9 2 6 8 6 4 8 8 8 9 7 9 3 7 6 8 9 0 7 9 5 3 1\n",
      " 3 2 9 8 3 6 9 3 9 4 0 9 7 4 6 9 9 9 9 8 7 8 1 0 6 4 7 9 6 1 8 9 5 5 5 9 7\n",
      " 0 5 8 4 3 1 7 7 1 7 7 0 4 6 2 5 2 5 3 3 7 3 9 7 4 7 3 1 7 2 2 5 8 3 6 8 9\n",
      " 1 4 9 7 8 9 1 2 0 9 9 4 9 0 4 0 3 7 5 6 5 5 7 2 5 9 4 5 2 9 1 3 7 3 9 4 1\n",
      " 1 9 1 0 8 5 7 7 1 8 6 6 8 0 9 9 7 4 4 5 9 4 7 9 6 9 9 8 7 1 7 3 5 3 0 6 2\n",
      " 0 2 3 4 2 6 4 8 7 1 7 4 4 5 0 2 1 4 9 8 4 8 4 6 2 4 9 2 8 2 8 2 5 5 2 7 0\n",
      " 8 5 2 3 8 2 1 9 7 3 0 2 8 2 4 4 7 6 1 4 1 8 8 9 4 3 4 3 9 9 7 2 6 7 1 1 1\n",
      " 5 4 4 9 4 3 8 1 6 3 3 8 7 2 2 2 6 0 3 6 4 1 9 4 6 2 6 5 1 4 1 7 5 8 6 6 1\n",
      " 9]\n",
      "Logistic Accuracy:  0.838\n",
      "[[ 75   2   3   3   0   0  12   0   4   0]\n",
      " [  0 105   1   2   0   0   1   0   0   0]\n",
      " [  1   0  65   1   9   0   8   0   1   0]\n",
      " [  5   0   2  76   4   0   2   0   0   0]\n",
      " [  0   0   9   4  84   0   6   0   2   0]\n",
      " [  1   0   0   0   0  84   0   9   0   4]\n",
      " [  6   1  15   5  12   0  62   0   1   0]\n",
      " [  0   0   0   0   0   5   0  85   0   9]\n",
      " [  0   1   1   2   0   1   0   3 102   0]\n",
      " [  0   0   0   0   0   1   0   2   1 100]]\n"
     ]
    }
   ],
   "source": [
    "from sklearn.metrics import confusion_matrix\n",
    "\n",
    "# fit model \n",
    "log_reg.fit(train_x_a, train_y)\n",
    "print(log_model.score(train_x_a, train_y))\n",
    "\n",
    "# test model\n",
    "test_y_predict = log_reg.predict(test_x)\n",
    "print(test_y_predict)\n",
    "\n",
    "# print confusion matrix\n",
    "log_accuracy = accuracy_score(test_y, test_y_predict)\n",
    "log_conf_matrix = confusion_matrix(test_y, test_y_predict)\n",
    "print(\"Logistic Accuracy: \", log_accuracy)\n",
    "print( log_conf_matrix)"
   ]
  },
  {
   "cell_type": "markdown",
   "metadata": {},
   "source": [
    "## MULTICLASS CLASSIFICATION USING SVR\n",
    "\n",
    "In the fourth part of the assignment, you will use an SVM Classifier (sklearn’s SVC) to perform multiclass classification using the pixel features in the dataset."
   ]
  },
  {
   "cell_type": "markdown",
   "metadata": {},
   "source": [
    "### l) Grid search to find best model:\n",
    "\n",
    "In order to perform Multiclass Classification, you will need to utilize SVC. However, SVC has large hyper parameter set. To find the best combination you will be using gridsearch. Using the below parameters, run GridSearchCV (cv = 5) with an SVC model on the **train_x_a** and **train_y**. Print out the best model’s parameters and accuracy.\n",
    "\n",
    "<img src=\"image.png\">\n",
    " \n",
    " "
   ]
  },
  {
   "cell_type": "code",
   "execution_count": 31,
   "metadata": {},
   "outputs": [
    {
     "name": "stdout",
     "output_type": "stream",
     "text": [
      "{'C': 10.0, 'decision_function_shape': 'ovo', 'kernel': 'rbf', 'tol': 0.0001}\n"
     ]
    }
   ],
   "source": [
    "# Grid Search\n",
    "from sklearn import svm, datasets\n",
    "from sklearn.model_selection import GridSearchCV\n",
    "from sklearn.svm import SVC\n",
    "from sklearn.multiclass import OneVsRestClassifier, OneVsOneClassifier\n",
    "\n",
    "parameters = {'kernel': ('linear', 'rbf', 'poly'), 'C': [0.1, 0.5, 1.0, 5.0, 10.], 'tol': [0.0001, 0.001, 0.1], 'decision_function_shape': ['ovo', 'ovr']}\n",
    "       \n",
    "# Support Vector Machine\n",
    "svc_reg = SVC()\n",
    "grid_search = GridSearchCV(svc_reg, parameters, cv=5, scoring = 'accuracy')\n",
    "grid_search.fit(train_x_a, train_y)\n",
    "\n",
    "best_grid_parameters = grid_search.best_params_\n",
    "\n",
    "print(best_grid_parameters)"
   ]
  },
  {
   "cell_type": "markdown",
   "metadata": {},
   "source": [
    "### m)Testing the best model:\n",
    "\n",
    "Recreate a model using the best parameters in **(l)** and calculate its **test accuracy**. Print the model’s **confusion matrix** on the test set."
   ]
  },
  {
   "cell_type": "code",
   "execution_count": 32,
   "metadata": {},
   "outputs": [
    {
     "name": "stdout",
     "output_type": "stream",
     "text": [
      "Final Accuracy:  0.882\n",
      "[[ 80   1   2   4   0   0  10   0   2   0]\n",
      " [  0 106   1   2   0   0   0   0   0   0]\n",
      " [  2   0  71   0   8   0   3   0   1   0]\n",
      " [  2   0   2  81   2   0   1   0   1   0]\n",
      " [  0   1   5   4  91   0   4   0   0   0]\n",
      " [  0   0   0   0   0  87   1   6   1   3]\n",
      " [ 10   0  15   3   6   0  68   0   0   0]\n",
      " [  0   0   0   0   0   4   0  91   0   4]\n",
      " [  0   0   0   1   0   1   1   1 105   1]\n",
      " [  0   0   0   0   0   0   0   2   0 102]]\n"
     ]
    }
   ],
   "source": [
    "from sklearn.metrics import accuracy_score\n",
    "\n",
    "final_model = grid_search.best_estimator_\n",
    "\n",
    "test_y_predict = final_model.predict(test_x)\n",
    "\n",
    "# calculate test accuracy\n",
    "final_accuracy = accuracy_score(test_y, test_y_predict)\n",
    "print(\"Final Accuracy: \", final_accuracy)\n",
    "\n",
    "# print confusion matrix\n",
    "print(confusion_matrix(test_y, test_y_predict))"
   ]
  },
  {
   "cell_type": "markdown",
   "metadata": {},
   "source": [
    "## MULTICLASS CLASSIFICATION USING DECISION TREES\n",
    "\n",
    "In the fifth part of the assignment, you will use a decision trees to perform multiclass classification."
   ]
  },
  {
   "cell_type": "markdown",
   "metadata": {},
   "source": [
    "### n) Grid Search to find best model:\n",
    "\n",
    "Using the below parameters, run GridSearchCV (cv = 5) with a decision tree model on the **train_x_a** and **train_y**. Print out the best model’s parameters and accuracy. \n",
    "\n",
    "<img src=\"image1.png\">"
   ]
  },
  {
   "cell_type": "code",
   "execution_count": 33,
   "metadata": {},
   "outputs": [
    {
     "name": "stdout",
     "output_type": "stream",
     "text": [
      "{'max_depth': 10, 'min_samples_split': 4}\n"
     ]
    }
   ],
   "source": [
    "from sklearn.model_selection import GridSearchCV\n",
    "from sklearn.tree import DecisionTreeClassifier\n",
    "parameters={'min_samples_split' : [2,3,4],'max_depth': [2,4,10]}\n",
    "\n",
    "tree = GridSearchCV(DecisionTreeClassifier(), parameters, cv = 5, scoring = 'accuracy')\n",
    "tree.fit(train_x_a, train_y)\n",
    "\n",
    "best_tree_parameters = tree.best_params_\n",
    "print(best_tree_parameters)"
   ]
  },
  {
   "cell_type": "markdown",
   "metadata": {},
   "source": [
    "### o) Testing the best model:\n",
    "\n",
    "Recreate a model using the best parameters in **(n)** and calculate its **test accuracy**. Print the model’s **confusion matrix** on the test set. "
   ]
  },
  {
   "cell_type": "code",
   "execution_count": 34,
   "metadata": {},
   "outputs": [
    {
     "name": "stdout",
     "output_type": "stream",
     "text": [
      "Final Accuracy:  0.764\n",
      "[[75  1  8  3  0  0 11  0  1  0]\n",
      " [ 4 98  2  4  0  1  0  0  0  0]\n",
      " [ 2  0 58  0 20  0  5  0  0  0]\n",
      " [ 4  1  5 70  4  0  3  0  2  0]\n",
      " [ 0  1 14  2 76  0 11  0  1  0]\n",
      " [ 1  0  0  1  0 78  1  8  3  6]\n",
      " [13  0 27  3 12  0 47  0  0  0]\n",
      " [ 0  0  1  0  0  9  0 80  1  8]\n",
      " [ 1  1  4  1  3  1  2  1 94  2]\n",
      " [ 0  0  0  1  0  4  1  8  2 88]]\n"
     ]
    }
   ],
   "source": [
    "final_model = tree.best_estimator_\n",
    "\n",
    "test_y_predict = final_model.predict(test_x)\n",
    "\n",
    "# calculate test accuracy\n",
    "final_accuracy = accuracy_score(test_y, test_y_predict)\n",
    "print(\"Final Accuracy: \", final_accuracy)\n",
    "\n",
    "# print confusion matrix\n",
    "print(confusion_matrix(test_y, test_y_predict))"
   ]
  },
  {
   "cell_type": "code",
   "execution_count": null,
   "metadata": {},
   "outputs": [],
   "source": []
  }
 ],
 "metadata": {
  "kernelspec": {
   "display_name": "Python 3",
   "language": "python",
   "name": "python3"
  },
  "language_info": {
   "codemirror_mode": {
    "name": "ipython",
    "version": 3
   },
   "file_extension": ".py",
   "mimetype": "text/x-python",
   "name": "python",
   "nbconvert_exporter": "python",
   "pygments_lexer": "ipython3",
   "version": "3.7.9"
  },
  "toc": {
   "base_numbering": 1,
   "nav_menu": {},
   "number_sections": false,
   "sideBar": true,
   "skip_h1_title": false,
   "title_cell": "Table of Contents",
   "title_sidebar": "Contents",
   "toc_cell": false,
   "toc_position": {
    "height": "calc(100% - 180px)",
    "left": "10px",
    "top": "150px",
    "width": "284.444px"
   },
   "toc_section_display": true,
   "toc_window_display": false
  },
  "varInspector": {
   "cols": {
    "lenName": 16,
    "lenType": 16,
    "lenVar": 40
   },
   "kernels_config": {
    "python": {
     "delete_cmd_postfix": "",
     "delete_cmd_prefix": "del ",
     "library": "var_list.py",
     "varRefreshCmd": "print(var_dic_list())"
    },
    "r": {
     "delete_cmd_postfix": ") ",
     "delete_cmd_prefix": "rm(",
     "library": "var_list.r",
     "varRefreshCmd": "cat(var_dic_list()) "
    }
   },
   "types_to_exclude": [
    "module",
    "function",
    "builtin_function_or_method",
    "instance",
    "_Feature"
   ],
   "window_display": false
  }
 },
 "nbformat": 4,
 "nbformat_minor": 2
}
