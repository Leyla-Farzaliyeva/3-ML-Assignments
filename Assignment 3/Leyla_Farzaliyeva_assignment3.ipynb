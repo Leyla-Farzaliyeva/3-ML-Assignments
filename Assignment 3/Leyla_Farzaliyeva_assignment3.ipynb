{
 "cells": [
  {
   "cell_type": "markdown",
   "metadata": {},
   "source": [
    "**Notes**:\n",
    "* Feel free to add cells as you need them.\n",
    "* Keep your code clean and readable.\n",
    "* Comments included in this document are just to summarize the question. For full details make sure you read the assignment pdf thoroughly.\n",
    "* Don't forget to rename the file when you finish"
   ]
  },
  {
   "cell_type": "markdown",
   "metadata": {},
   "source": [
    "# EECS 461/ECE 523  | Assignment 3\n",
    "\n",
    "### Assignment Overview: \n",
    "\n",
    "This assignment is mainly about the examples in chapters 6 and 7 of the course book with a different data set. Reviewing the book and the corresponding code will help you. **You are expected to primarily use Scikit-Learn in the assignment**.  \n",
    "\n",
    "**Data Set**: \n",
    "\n",
    "**The data set provided for this assignment is the same as the one assigned in the first one. It contains information on many different car types and their prices**. This assignment challenges you to predict the sale price of each car. Data is in CSV format and has already been split into training and test sets for your convenience: train.csv: the training set, test.csv: the test set. \n",
    " "
   ]
  },
  {
   "cell_type": "code",
   "execution_count": 50,
   "metadata": {
    "ExecuteTime": {
     "end_time": "2019-11-22T21:10:19.201922Z",
     "start_time": "2019-11-22T21:10:17.698759Z"
    }
   },
   "outputs": [],
   "source": [
    "import csv\n",
    "import pandas as pd\n",
    "import numpy as np\n",
    "from sklearn.model_selection import train_test_split\n",
    "import matplotlib as mpl\n",
    "import matplotlib.pyplot as plt"
   ]
  },
  {
   "cell_type": "markdown",
   "metadata": {},
   "source": [
    "# DATA PREPARATION\n",
    "\n",
    "Follow the same steps from the first assignment to create the variables **train_x_e, train_y, test_x, and test_y**. "
   ]
  },
  {
   "cell_type": "code",
   "execution_count": 51,
   "metadata": {},
   "outputs": [],
   "source": [
    "#ignore warnings\n",
    "import warnings\n",
    "warnings.filterwarnings('ignore')"
   ]
  },
  {
   "cell_type": "code",
   "execution_count": 52,
   "metadata": {},
   "outputs": [],
   "source": [
    "train = pd.read_csv(\"training.csv\") \n",
    "test = pd.read_csv(\"test.csv\")"
   ]
  },
  {
   "cell_type": "code",
   "execution_count": 53,
   "metadata": {},
   "outputs": [],
   "source": [
    "#divide training.csv into train_x_a and train_y data frames\n",
    "train_x_a = train.drop('price', axis=1) \n",
    "train_y = pd.DataFrame(train.price)"
   ]
  },
  {
   "cell_type": "code",
   "execution_count": 54,
   "metadata": {},
   "outputs": [
    {
     "data": {
      "text/html": [
       "<div>\n",
       "<style scoped>\n",
       "    .dataframe tbody tr th:only-of-type {\n",
       "        vertical-align: middle;\n",
       "    }\n",
       "\n",
       "    .dataframe tbody tr th {\n",
       "        vertical-align: top;\n",
       "    }\n",
       "\n",
       "    .dataframe thead th {\n",
       "        text-align: right;\n",
       "    }\n",
       "</style>\n",
       "<table border=\"1\" class=\"dataframe\">\n",
       "  <thead>\n",
       "    <tr style=\"text-align: right;\">\n",
       "      <th></th>\n",
       "      <th>fueltype</th>\n",
       "      <th>aspiration</th>\n",
       "      <th>doornumber</th>\n",
       "      <th>carbody</th>\n",
       "      <th>drivewheel</th>\n",
       "      <th>enginelocation</th>\n",
       "      <th>wheelbase</th>\n",
       "      <th>carlength</th>\n",
       "      <th>carwidth</th>\n",
       "      <th>carheight</th>\n",
       "      <th>...</th>\n",
       "      <th>cylindernumber</th>\n",
       "      <th>enginesize</th>\n",
       "      <th>fuelsystem</th>\n",
       "      <th>boreratio</th>\n",
       "      <th>stroke</th>\n",
       "      <th>compressionratio</th>\n",
       "      <th>horsepower</th>\n",
       "      <th>peakrpm</th>\n",
       "      <th>citympg</th>\n",
       "      <th>highwaympg</th>\n",
       "    </tr>\n",
       "  </thead>\n",
       "  <tbody>\n",
       "    <tr>\n",
       "      <th>0</th>\n",
       "      <td>gas</td>\n",
       "      <td>std</td>\n",
       "      <td>four</td>\n",
       "      <td>sedan</td>\n",
       "      <td>rwd</td>\n",
       "      <td>front</td>\n",
       "      <td>104.3</td>\n",
       "      <td>188.8</td>\n",
       "      <td>67.2</td>\n",
       "      <td>56.2</td>\n",
       "      <td>...</td>\n",
       "      <td>four</td>\n",
       "      <td>141.0</td>\n",
       "      <td>mpfi</td>\n",
       "      <td>NaN</td>\n",
       "      <td>3.15</td>\n",
       "      <td>9.5</td>\n",
       "      <td>114.0</td>\n",
       "      <td>5400.0</td>\n",
       "      <td>24.0</td>\n",
       "      <td>28.0</td>\n",
       "    </tr>\n",
       "    <tr>\n",
       "      <th>1</th>\n",
       "      <td>gas</td>\n",
       "      <td>std</td>\n",
       "      <td>four</td>\n",
       "      <td>wagon</td>\n",
       "      <td>fwd</td>\n",
       "      <td>front</td>\n",
       "      <td>94.5</td>\n",
       "      <td>170.2</td>\n",
       "      <td>63.8</td>\n",
       "      <td>53.5</td>\n",
       "      <td>...</td>\n",
       "      <td>four</td>\n",
       "      <td>97.0</td>\n",
       "      <td>2bbl</td>\n",
       "      <td>3.15</td>\n",
       "      <td>3.29</td>\n",
       "      <td>9.4</td>\n",
       "      <td>69.0</td>\n",
       "      <td>5200.0</td>\n",
       "      <td>31.0</td>\n",
       "      <td>37.0</td>\n",
       "    </tr>\n",
       "  </tbody>\n",
       "</table>\n",
       "<p>2 rows × 22 columns</p>\n",
       "</div>"
      ],
      "text/plain": [
       "  fueltype aspiration doornumber carbody drivewheel enginelocation  wheelbase  \\\n",
       "0      gas        std       four   sedan        rwd          front      104.3   \n",
       "1      gas        std       four   wagon        fwd          front       94.5   \n",
       "\n",
       "   carlength  carwidth  carheight  ...  cylindernumber enginesize fuelsystem  \\\n",
       "0      188.8      67.2       56.2  ...            four      141.0       mpfi   \n",
       "1      170.2      63.8       53.5  ...            four       97.0       2bbl   \n",
       "\n",
       "   boreratio stroke  compressionratio  horsepower  peakrpm  citympg  \\\n",
       "0        NaN   3.15               9.5       114.0   5400.0     24.0   \n",
       "1       3.15   3.29               9.4        69.0   5200.0     31.0   \n",
       "\n",
       "   highwaympg  \n",
       "0        28.0  \n",
       "1        37.0  \n",
       "\n",
       "[2 rows x 22 columns]"
      ]
     },
     "execution_count": 54,
     "metadata": {},
     "output_type": "execute_result"
    }
   ],
   "source": [
    "train_x_a.head(2)"
   ]
  },
  {
   "cell_type": "code",
   "execution_count": 55,
   "metadata": {},
   "outputs": [
    {
     "data": {
      "text/html": [
       "<div>\n",
       "<style scoped>\n",
       "    .dataframe tbody tr th:only-of-type {\n",
       "        vertical-align: middle;\n",
       "    }\n",
       "\n",
       "    .dataframe tbody tr th {\n",
       "        vertical-align: top;\n",
       "    }\n",
       "\n",
       "    .dataframe thead th {\n",
       "        text-align: right;\n",
       "    }\n",
       "</style>\n",
       "<table border=\"1\" class=\"dataframe\">\n",
       "  <thead>\n",
       "    <tr style=\"text-align: right;\">\n",
       "      <th></th>\n",
       "      <th>price</th>\n",
       "    </tr>\n",
       "  </thead>\n",
       "  <tbody>\n",
       "    <tr>\n",
       "      <th>0</th>\n",
       "      <td>15985.0</td>\n",
       "    </tr>\n",
       "    <tr>\n",
       "      <th>1</th>\n",
       "      <td>7349.0</td>\n",
       "    </tr>\n",
       "  </tbody>\n",
       "</table>\n",
       "</div>"
      ],
      "text/plain": [
       "     price\n",
       "0  15985.0\n",
       "1   7349.0"
      ]
     },
     "execution_count": 55,
     "metadata": {},
     "output_type": "execute_result"
    }
   ],
   "source": [
    "train_y.head(2)"
   ]
  },
  {
   "cell_type": "code",
   "execution_count": 56,
   "metadata": {},
   "outputs": [
    {
     "data": {
      "text/plain": [
       "(164, 22)"
      ]
     },
     "execution_count": 56,
     "metadata": {},
     "output_type": "execute_result"
    }
   ],
   "source": [
    "train_x_a.shape"
   ]
  },
  {
   "cell_type": "code",
   "execution_count": 57,
   "metadata": {},
   "outputs": [
    {
     "data": {
      "text/plain": [
       "(164, 1)"
      ]
     },
     "execution_count": 57,
     "metadata": {},
     "output_type": "execute_result"
    }
   ],
   "source": [
    "train_y.shape"
   ]
  },
  {
   "cell_type": "code",
   "execution_count": 58,
   "metadata": {},
   "outputs": [
    {
     "name": "stdout",
     "output_type": "stream",
     "text": [
      "Index(['wheelbase', 'carlength', 'carwidth', 'carheight', 'curbweight',\n",
      "       'enginesize', 'boreratio', 'stroke', 'compressionratio', 'horsepower',\n",
      "       'peakrpm', 'citympg', 'highwaympg', 'price'],\n",
      "      dtype='object')\n"
     ]
    }
   ],
   "source": [
    "#Columns that have missing values\n",
    "nan_columns = train.columns[train.isnull().any()] \n",
    "print(nan_columns)"
   ]
  },
  {
   "cell_type": "code",
   "execution_count": 59,
   "metadata": {},
   "outputs": [],
   "source": [
    "#fill w/ median\n",
    "train_x_b = train_x_a.fillna(train_x_a.median())"
   ]
  },
  {
   "cell_type": "code",
   "execution_count": 60,
   "metadata": {},
   "outputs": [
    {
     "data": {
      "text/plain": [
       "fueltype            False\n",
       "aspiration          False\n",
       "doornumber          False\n",
       "carbody             False\n",
       "drivewheel          False\n",
       "enginelocation      False\n",
       "wheelbase           False\n",
       "carlength           False\n",
       "carwidth            False\n",
       "carheight           False\n",
       "curbweight          False\n",
       "enginetype          False\n",
       "cylindernumber      False\n",
       "enginesize          False\n",
       "fuelsystem          False\n",
       "boreratio           False\n",
       "stroke              False\n",
       "compressionratio    False\n",
       "horsepower          False\n",
       "peakrpm             False\n",
       "citympg             False\n",
       "highwaympg          False\n",
       "dtype: bool"
      ]
     },
     "execution_count": 60,
     "metadata": {},
     "output_type": "execute_result"
    }
   ],
   "source": [
    "train_x_b.isnull().any()"
   ]
  },
  {
   "cell_type": "code",
   "execution_count": 61,
   "metadata": {},
   "outputs": [
    {
     "data": {
      "text/plain": [
       "[18, 37, 47, 69, 71, 81, 82, 100, 107]"
      ]
     },
     "execution_count": 61,
     "metadata": {},
     "output_type": "execute_result"
    }
   ],
   "source": [
    "#finding nan values indices in column 'price'\n",
    "null_prices=train_y[train_y['price'].isnull()].index.tolist()\n",
    "null_prices"
   ]
  },
  {
   "cell_type": "code",
   "execution_count": 62,
   "metadata": {},
   "outputs": [],
   "source": [
    "#drop the nan value rows from train_y\n",
    "train_y = train_y.drop(null_prices)\n",
    "\n",
    "#drop the nan value rows from train_x_b\n",
    "train_x_b = train_x_b.drop(null_prices)"
   ]
  },
  {
   "cell_type": "code",
   "execution_count": 63,
   "metadata": {},
   "outputs": [
    {
     "data": {
      "text/plain": [
       "price    False\n",
       "dtype: bool"
      ]
     },
     "execution_count": 63,
     "metadata": {},
     "output_type": "execute_result"
    }
   ],
   "source": [
    "train_y.isnull().any()"
   ]
  },
  {
   "cell_type": "code",
   "execution_count": 64,
   "metadata": {},
   "outputs": [
    {
     "data": {
      "text/plain": [
       "(155, 22)"
      ]
     },
     "execution_count": 64,
     "metadata": {},
     "output_type": "execute_result"
    }
   ],
   "source": [
    "train_x_b.shape "
   ]
  },
  {
   "cell_type": "code",
   "execution_count": 65,
   "metadata": {},
   "outputs": [
    {
     "name": "stdout",
     "output_type": "stream",
     "text": [
      "['fueltype', 'aspiration', 'doornumber', 'carbody', 'drivewheel', 'enginelocation', 'enginetype', 'cylindernumber', 'fuelsystem']\n"
     ]
    }
   ],
   "source": [
    "#finding all categorical value columns\n",
    "categorical_columns = list(train_x_b.select_dtypes(include = ['object']))\n",
    "print(categorical_columns)"
   ]
  },
  {
   "cell_type": "code",
   "execution_count": 66,
   "metadata": {},
   "outputs": [],
   "source": [
    "#Convert categorical value columns into dummy variable columns\n",
    "train_x_d = pd.get_dummies(train_x_b)"
   ]
  },
  {
   "cell_type": "code",
   "execution_count": 67,
   "metadata": {},
   "outputs": [],
   "source": [
    "#Scale Data\n",
    "from sklearn.preprocessing import StandardScaler\n",
    "\n",
    "scaler = StandardScaler()\n",
    "\n",
    "# Only fit the scaler, not fit_transform. This is so we can use the same scaler for the test data.\n",
    "scaler.fit(train_x_d)\n",
    "train_x_e = scaler.transform(train_x_d)\n",
    "#Array to DataFrame\n",
    "train_x_e = pd.DataFrame(train_x_e)\n",
    "train_x_e.columns = train_x_d.columns"
   ]
  },
  {
   "cell_type": "code",
   "execution_count": 68,
   "metadata": {},
   "outputs": [
    {
     "data": {
      "text/html": [
       "<div>\n",
       "<style scoped>\n",
       "    .dataframe tbody tr th:only-of-type {\n",
       "        vertical-align: middle;\n",
       "    }\n",
       "\n",
       "    .dataframe tbody tr th {\n",
       "        vertical-align: top;\n",
       "    }\n",
       "\n",
       "    .dataframe thead th {\n",
       "        text-align: right;\n",
       "    }\n",
       "</style>\n",
       "<table border=\"1\" class=\"dataframe\">\n",
       "  <thead>\n",
       "    <tr style=\"text-align: right;\">\n",
       "      <th></th>\n",
       "      <th>wheelbase</th>\n",
       "      <th>carlength</th>\n",
       "      <th>carwidth</th>\n",
       "      <th>carheight</th>\n",
       "      <th>curbweight</th>\n",
       "      <th>enginesize</th>\n",
       "      <th>boreratio</th>\n",
       "      <th>stroke</th>\n",
       "      <th>compressionratio</th>\n",
       "      <th>horsepower</th>\n",
       "      <th>...</th>\n",
       "      <th>cylindernumber_three</th>\n",
       "      <th>cylindernumber_twelve</th>\n",
       "      <th>cylindernumber_two</th>\n",
       "      <th>fuelsystem_1bbl</th>\n",
       "      <th>fuelsystem_2bbl</th>\n",
       "      <th>fuelsystem_4bbl</th>\n",
       "      <th>fuelsystem_idi</th>\n",
       "      <th>fuelsystem_mfi</th>\n",
       "      <th>fuelsystem_mpfi</th>\n",
       "      <th>fuelsystem_spdi</th>\n",
       "    </tr>\n",
       "  </thead>\n",
       "  <tbody>\n",
       "    <tr>\n",
       "      <th>0</th>\n",
       "      <td>1.040486</td>\n",
       "      <td>1.218356</td>\n",
       "      <td>0.697865</td>\n",
       "      <td>1.106358</td>\n",
       "      <td>-0.204044</td>\n",
       "      <td>0.427546</td>\n",
       "      <td>-0.000506</td>\n",
       "      <td>-0.298040</td>\n",
       "      <td>-0.115772</td>\n",
       "      <td>0.312992</td>\n",
       "      <td>...</td>\n",
       "      <td>-0.080582</td>\n",
       "      <td>-0.080582</td>\n",
       "      <td>-0.114332</td>\n",
       "      <td>-0.248282</td>\n",
       "      <td>-0.720838</td>\n",
       "      <td>-0.114332</td>\n",
       "      <td>-0.315104</td>\n",
       "      <td>-0.080582</td>\n",
       "      <td>1.146051</td>\n",
       "      <td>-0.248282</td>\n",
       "    </tr>\n",
       "    <tr>\n",
       "      <th>1</th>\n",
       "      <td>-0.729389</td>\n",
       "      <td>-0.266100</td>\n",
       "      <td>-1.003614</td>\n",
       "      <td>-0.087277</td>\n",
       "      <td>-0.969288</td>\n",
       "      <td>-0.679464</td>\n",
       "      <td>-0.628165</td>\n",
       "      <td>0.134277</td>\n",
       "      <td>-0.142667</td>\n",
       "      <td>-0.909358</td>\n",
       "      <td>...</td>\n",
       "      <td>-0.080582</td>\n",
       "      <td>-0.080582</td>\n",
       "      <td>-0.114332</td>\n",
       "      <td>-0.248282</td>\n",
       "      <td>1.387274</td>\n",
       "      <td>-0.114332</td>\n",
       "      <td>-0.315104</td>\n",
       "      <td>-0.080582</td>\n",
       "      <td>-0.872562</td>\n",
       "      <td>-0.248282</td>\n",
       "    </tr>\n",
       "  </tbody>\n",
       "</table>\n",
       "<p>2 rows × 49 columns</p>\n",
       "</div>"
      ],
      "text/plain": [
       "   wheelbase  carlength  carwidth  carheight  curbweight  enginesize  \\\n",
       "0   1.040486   1.218356  0.697865   1.106358   -0.204044    0.427546   \n",
       "1  -0.729389  -0.266100 -1.003614  -0.087277   -0.969288   -0.679464   \n",
       "\n",
       "   boreratio    stroke  compressionratio  horsepower  ...  \\\n",
       "0  -0.000506 -0.298040         -0.115772    0.312992  ...   \n",
       "1  -0.628165  0.134277         -0.142667   -0.909358  ...   \n",
       "\n",
       "   cylindernumber_three  cylindernumber_twelve  cylindernumber_two  \\\n",
       "0             -0.080582              -0.080582           -0.114332   \n",
       "1             -0.080582              -0.080582           -0.114332   \n",
       "\n",
       "   fuelsystem_1bbl  fuelsystem_2bbl  fuelsystem_4bbl  fuelsystem_idi  \\\n",
       "0        -0.248282        -0.720838        -0.114332       -0.315104   \n",
       "1        -0.248282         1.387274        -0.114332       -0.315104   \n",
       "\n",
       "   fuelsystem_mfi  fuelsystem_mpfi  fuelsystem_spdi  \n",
       "0       -0.080582         1.146051        -0.248282  \n",
       "1       -0.080582        -0.872562        -0.248282  \n",
       "\n",
       "[2 rows x 49 columns]"
      ]
     },
     "execution_count": 68,
     "metadata": {},
     "output_type": "execute_result"
    }
   ],
   "source": [
    "train_x_e.head(2)"
   ]
  },
  {
   "cell_type": "code",
   "execution_count": 69,
   "metadata": {},
   "outputs": [],
   "source": [
    "#divide test.csv into test_x and test_y data frames\n",
    "test_x = test.drop(columns = 'price')\n",
    "test_y = test['price']"
   ]
  },
  {
   "cell_type": "code",
   "execution_count": 70,
   "metadata": {},
   "outputs": [
    {
     "name": "stdout",
     "output_type": "stream",
     "text": [
      "Index(['wheelbase', 'carlength', 'carwidth', 'carheight', 'curbweight',\n",
      "       'enginesize', 'stroke', 'compressionratio', 'horsepower', 'peakrpm',\n",
      "       'citympg', 'highwaympg'],\n",
      "      dtype='object')\n"
     ]
    }
   ],
   "source": [
    "#Columns that have missing values\n",
    "nan_columns = test_x.columns[test_x.isnull().any()]\n",
    "print(nan_columns)"
   ]
  },
  {
   "cell_type": "code",
   "execution_count": 71,
   "metadata": {},
   "outputs": [],
   "source": [
    "#filling missing values with median\n",
    "test_x.fillna(train_x_a.median(), inplace = True)"
   ]
  },
  {
   "cell_type": "code",
   "execution_count": 72,
   "metadata": {},
   "outputs": [
    {
     "data": {
      "text/plain": [
       "fueltype            False\n",
       "aspiration          False\n",
       "doornumber          False\n",
       "carbody             False\n",
       "drivewheel          False\n",
       "enginelocation      False\n",
       "wheelbase           False\n",
       "carlength           False\n",
       "carwidth            False\n",
       "carheight           False\n",
       "curbweight          False\n",
       "enginetype          False\n",
       "cylindernumber      False\n",
       "enginesize          False\n",
       "fuelsystem          False\n",
       "boreratio           False\n",
       "stroke              False\n",
       "compressionratio    False\n",
       "horsepower          False\n",
       "peakrpm             False\n",
       "citympg             False\n",
       "highwaympg          False\n",
       "dtype: bool"
      ]
     },
     "execution_count": 72,
     "metadata": {},
     "output_type": "execute_result"
    }
   ],
   "source": [
    "test_x.isnull().any()"
   ]
  },
  {
   "cell_type": "code",
   "execution_count": 73,
   "metadata": {},
   "outputs": [
    {
     "data": {
      "text/plain": [
       "[10]"
      ]
     },
     "execution_count": 73,
     "metadata": {},
     "output_type": "execute_result"
    }
   ],
   "source": [
    "#finding nan values indices in column 'price'\n",
    "null_prices=test_y[test_y.isnull()].index.tolist()\n",
    "null_prices"
   ]
  },
  {
   "cell_type": "code",
   "execution_count": 74,
   "metadata": {},
   "outputs": [],
   "source": [
    "#drop the nan value rows from test_y\n",
    "test_y=test_y.drop(null_prices)\n",
    "\n",
    "#drop the nan value rows from test_x\n",
    "test_x=test_x.drop(null_prices)"
   ]
  },
  {
   "cell_type": "code",
   "execution_count": 75,
   "metadata": {},
   "outputs": [
    {
     "data": {
      "text/plain": [
       "(40, 22)"
      ]
     },
     "execution_count": 75,
     "metadata": {},
     "output_type": "execute_result"
    }
   ],
   "source": [
    "test_x.shape"
   ]
  },
  {
   "cell_type": "code",
   "execution_count": 76,
   "metadata": {},
   "outputs": [
    {
     "data": {
      "text/html": [
       "<div>\n",
       "<style scoped>\n",
       "    .dataframe tbody tr th:only-of-type {\n",
       "        vertical-align: middle;\n",
       "    }\n",
       "\n",
       "    .dataframe tbody tr th {\n",
       "        vertical-align: top;\n",
       "    }\n",
       "\n",
       "    .dataframe thead th {\n",
       "        text-align: right;\n",
       "    }\n",
       "</style>\n",
       "<table border=\"1\" class=\"dataframe\">\n",
       "  <thead>\n",
       "    <tr style=\"text-align: right;\">\n",
       "      <th></th>\n",
       "      <th>wheelbase</th>\n",
       "      <th>carlength</th>\n",
       "      <th>carwidth</th>\n",
       "      <th>carheight</th>\n",
       "      <th>curbweight</th>\n",
       "      <th>enginesize</th>\n",
       "      <th>boreratio</th>\n",
       "      <th>stroke</th>\n",
       "      <th>compressionratio</th>\n",
       "      <th>horsepower</th>\n",
       "      <th>...</th>\n",
       "      <th>cylindernumber_three</th>\n",
       "      <th>cylindernumber_twelve</th>\n",
       "      <th>cylindernumber_two</th>\n",
       "      <th>fuelsystem_1bbl</th>\n",
       "      <th>fuelsystem_2bbl</th>\n",
       "      <th>fuelsystem_4bbl</th>\n",
       "      <th>fuelsystem_idi</th>\n",
       "      <th>fuelsystem_mfi</th>\n",
       "      <th>fuelsystem_mpfi</th>\n",
       "      <th>fuelsystem_spdi</th>\n",
       "    </tr>\n",
       "  </thead>\n",
       "  <tbody>\n",
       "    <tr>\n",
       "      <th>0</th>\n",
       "      <td>105.8</td>\n",
       "      <td>192.7</td>\n",
       "      <td>71.4</td>\n",
       "      <td>55.7</td>\n",
       "      <td>2954.0</td>\n",
       "      <td>136.0</td>\n",
       "      <td>3.19</td>\n",
       "      <td>3.40</td>\n",
       "      <td>8.5</td>\n",
       "      <td>110.0</td>\n",
       "      <td>...</td>\n",
       "      <td>0</td>\n",
       "      <td>0</td>\n",
       "      <td>0</td>\n",
       "      <td>0</td>\n",
       "      <td>0</td>\n",
       "      <td>0</td>\n",
       "      <td>0</td>\n",
       "      <td>0</td>\n",
       "      <td>1</td>\n",
       "      <td>0</td>\n",
       "    </tr>\n",
       "    <tr>\n",
       "      <th>1</th>\n",
       "      <td>96.5</td>\n",
       "      <td>175.4</td>\n",
       "      <td>62.5</td>\n",
       "      <td>54.1</td>\n",
       "      <td>2372.0</td>\n",
       "      <td>110.0</td>\n",
       "      <td>3.15</td>\n",
       "      <td>3.58</td>\n",
       "      <td>9.0</td>\n",
       "      <td>86.0</td>\n",
       "      <td>...</td>\n",
       "      <td>0</td>\n",
       "      <td>0</td>\n",
       "      <td>0</td>\n",
       "      <td>1</td>\n",
       "      <td>0</td>\n",
       "      <td>0</td>\n",
       "      <td>0</td>\n",
       "      <td>0</td>\n",
       "      <td>0</td>\n",
       "      <td>0</td>\n",
       "    </tr>\n",
       "  </tbody>\n",
       "</table>\n",
       "<p>2 rows × 49 columns</p>\n",
       "</div>"
      ],
      "text/plain": [
       "   wheelbase  carlength  carwidth  carheight  curbweight  enginesize  \\\n",
       "0      105.8      192.7      71.4       55.7      2954.0       136.0   \n",
       "1       96.5      175.4      62.5       54.1      2372.0       110.0   \n",
       "\n",
       "   boreratio  stroke  compressionratio  horsepower  ...  cylindernumber_three  \\\n",
       "0       3.19    3.40               8.5       110.0  ...                     0   \n",
       "1       3.15    3.58               9.0        86.0  ...                     0   \n",
       "\n",
       "   cylindernumber_twelve  cylindernumber_two  fuelsystem_1bbl  \\\n",
       "0                      0                   0                0   \n",
       "1                      0                   0                1   \n",
       "\n",
       "   fuelsystem_2bbl  fuelsystem_4bbl  fuelsystem_idi  fuelsystem_mfi  \\\n",
       "0                0                0               0               0   \n",
       "1                0                0               0               0   \n",
       "\n",
       "   fuelsystem_mpfi  fuelsystem_spdi  \n",
       "0                1                0  \n",
       "1                0                0  \n",
       "\n",
       "[2 rows x 49 columns]"
      ]
     },
     "execution_count": 76,
     "metadata": {},
     "output_type": "execute_result"
    }
   ],
   "source": [
    "#Convert categorical value columns into dummy variable columns\n",
    "test_x = pd.get_dummies(test_x)\n",
    "test_x.head(2)"
   ]
  },
  {
   "cell_type": "code",
   "execution_count": 77,
   "metadata": {},
   "outputs": [
    {
     "data": {
      "text/html": [
       "<div>\n",
       "<style scoped>\n",
       "    .dataframe tbody tr th:only-of-type {\n",
       "        vertical-align: middle;\n",
       "    }\n",
       "\n",
       "    .dataframe tbody tr th {\n",
       "        vertical-align: top;\n",
       "    }\n",
       "\n",
       "    .dataframe thead th {\n",
       "        text-align: right;\n",
       "    }\n",
       "</style>\n",
       "<table border=\"1\" class=\"dataframe\">\n",
       "  <thead>\n",
       "    <tr style=\"text-align: right;\">\n",
       "      <th></th>\n",
       "      <th>wheelbase</th>\n",
       "      <th>carlength</th>\n",
       "      <th>carwidth</th>\n",
       "      <th>carheight</th>\n",
       "      <th>curbweight</th>\n",
       "      <th>enginesize</th>\n",
       "      <th>boreratio</th>\n",
       "      <th>stroke</th>\n",
       "      <th>compressionratio</th>\n",
       "      <th>horsepower</th>\n",
       "      <th>...</th>\n",
       "      <th>cylindernumber_three</th>\n",
       "      <th>cylindernumber_twelve</th>\n",
       "      <th>cylindernumber_two</th>\n",
       "      <th>fuelsystem_1bbl</th>\n",
       "      <th>fuelsystem_2bbl</th>\n",
       "      <th>fuelsystem_4bbl</th>\n",
       "      <th>fuelsystem_idi</th>\n",
       "      <th>fuelsystem_mfi</th>\n",
       "      <th>fuelsystem_mpfi</th>\n",
       "      <th>fuelsystem_spdi</th>\n",
       "    </tr>\n",
       "  </thead>\n",
       "  <tbody>\n",
       "    <tr>\n",
       "      <th>0</th>\n",
       "      <td>1.311385</td>\n",
       "      <td>1.529613</td>\n",
       "      <td>2.799691</td>\n",
       "      <td>0.885315</td>\n",
       "      <td>0.874435</td>\n",
       "      <td>0.301750</td>\n",
       "      <td>-0.471250</td>\n",
       "      <td>0.473955</td>\n",
       "      <td>-0.384726</td>\n",
       "      <td>0.204338</td>\n",
       "      <td>...</td>\n",
       "      <td>-0.080582</td>\n",
       "      <td>-0.080582</td>\n",
       "      <td>-0.114332</td>\n",
       "      <td>-0.248282</td>\n",
       "      <td>-0.720838</td>\n",
       "      <td>-0.114332</td>\n",
       "      <td>-0.315104</td>\n",
       "      <td>-0.080582</td>\n",
       "      <td>1.146051</td>\n",
       "      <td>-0.248282</td>\n",
       "    </tr>\n",
       "    <tr>\n",
       "      <th>1</th>\n",
       "      <td>-0.368190</td>\n",
       "      <td>0.148909</td>\n",
       "      <td>-1.654180</td>\n",
       "      <td>0.177976</td>\n",
       "      <td>-0.279379</td>\n",
       "      <td>-0.352393</td>\n",
       "      <td>-0.628165</td>\n",
       "      <td>1.029791</td>\n",
       "      <td>-0.250249</td>\n",
       "      <td>-0.447582</td>\n",
       "      <td>...</td>\n",
       "      <td>-0.080582</td>\n",
       "      <td>-0.080582</td>\n",
       "      <td>-0.114332</td>\n",
       "      <td>4.027682</td>\n",
       "      <td>-0.720838</td>\n",
       "      <td>-0.114332</td>\n",
       "      <td>-0.315104</td>\n",
       "      <td>-0.080582</td>\n",
       "      <td>-0.872562</td>\n",
       "      <td>-0.248282</td>\n",
       "    </tr>\n",
       "  </tbody>\n",
       "</table>\n",
       "<p>2 rows × 49 columns</p>\n",
       "</div>"
      ],
      "text/plain": [
       "   wheelbase  carlength  carwidth  carheight  curbweight  enginesize  \\\n",
       "0   1.311385   1.529613  2.799691   0.885315    0.874435    0.301750   \n",
       "1  -0.368190   0.148909 -1.654180   0.177976   -0.279379   -0.352393   \n",
       "\n",
       "   boreratio    stroke  compressionratio  horsepower  ...  \\\n",
       "0  -0.471250  0.473955         -0.384726    0.204338  ...   \n",
       "1  -0.628165  1.029791         -0.250249   -0.447582  ...   \n",
       "\n",
       "   cylindernumber_three  cylindernumber_twelve  cylindernumber_two  \\\n",
       "0             -0.080582              -0.080582           -0.114332   \n",
       "1             -0.080582              -0.080582           -0.114332   \n",
       "\n",
       "   fuelsystem_1bbl  fuelsystem_2bbl  fuelsystem_4bbl  fuelsystem_idi  \\\n",
       "0        -0.248282        -0.720838        -0.114332       -0.315104   \n",
       "1         4.027682        -0.720838        -0.114332       -0.315104   \n",
       "\n",
       "   fuelsystem_mfi  fuelsystem_mpfi  fuelsystem_spdi  \n",
       "0       -0.080582         1.146051        -0.248282  \n",
       "1       -0.080582        -0.872562        -0.248282  \n",
       "\n",
       "[2 rows x 49 columns]"
      ]
     },
     "execution_count": 77,
     "metadata": {},
     "output_type": "execute_result"
    }
   ],
   "source": [
    "from sklearn.preprocessing import StandardScaler\n",
    " \n",
    "# Use already fitted standard scaler from training data.\n",
    "test_x = scaler.transform(test_x)\n",
    "# Array to Data frame\n",
    "test_x = pd.DataFrame(test_x)\n",
    "test_x.columns = train_x_d.columns\n",
    "test_x.head(2)"
   ]
  },
  {
   "cell_type": "markdown",
   "metadata": {},
   "source": [
    "## KNN REGGRESSOR TO PREDICT CAR PRICES \n",
    "\n",
    "In this part of the assignment, you are going to train a KNN Regression model that predicts the prices of cars by using the other features in the dataset. "
   ]
  },
  {
   "cell_type": "markdown",
   "metadata": {},
   "source": [
    "### a) Training Vs Validation Plot:\n",
    "\n",
    "Split your training dataset (**train_x_e and train_y**) into a validation and new training set (**80% training and 20% validation**, use **random_state = 0** with sklearn’s train_test_split). For every integer value **k between 1 and 30** create and record a KNN Regression model’s **training** and **validation** MSEs where the KNN model’s number of neighbours is k. Produce a plot that visualizes both your training and validation errors over the differing values of k: where the y-axis is the error and the x-axis is k. "
   ]
  },
  {
   "cell_type": "code",
   "execution_count": 78,
   "metadata": {},
   "outputs": [],
   "source": [
    "#Split training dataset into new training and validation set\n",
    "train_split_x, val_split_x, train_split_y, val_split_y = train_test_split(train_x_e, train_y, test_size=0.2, random_state=0)"
   ]
  },
  {
   "cell_type": "code",
   "execution_count": 79,
   "metadata": {},
   "outputs": [],
   "source": [
    "from sklearn.neighbors import KNeighborsRegressor\n",
    "from sklearn.metrics import mean_squared_error \n",
    "\n",
    "knn_training_errors = []\n",
    "knn_validation_error = []\n",
    "#Creating KNN Regression for every k between range(1, 30)\n",
    "for k in range(1, 30): \n",
    "    knn = KNeighborsRegressor(n_neighbors=k)\n",
    "    knn.fit(train_split_x, train_split_y)\n",
    "    train_pred = knn.predict(train_split_x)\n",
    "    val_pred = knn.predict(val_split_x)\n",
    "    train_error = mean_squared_error(train_split_y, train_pred)\n",
    "    validation_error = mean_squared_error(val_split_y, val_pred)\n",
    "    \n",
    "    knn_training_errors.append(train_error)\n",
    "    knn_validation_error.append(validation_error)"
   ]
  },
  {
   "cell_type": "code",
   "execution_count": 80,
   "metadata": {},
   "outputs": [
    {
     "data": {
      "text/plain": [
       "Text(0, 0.5, 'MSE')"
      ]
     },
     "execution_count": 80,
     "metadata": {},
     "output_type": "execute_result"
    },
    {
     "data": {
      "image/png": "[encoded data removed]",
      "text/plain": [
       "<Figure size 432x288 with 1 Axes>"
      ]
     },
     "metadata": {
      "needs_background": "light"
     },
     "output_type": "display_data"
    }
   ],
   "source": [
    "# training vs validation plot\n",
    "plt.plot(knn_training_errors, 'g-', label = 'train')\n",
    "plt.plot(knn_validation_error, 'y-', label = 'validation')\n",
    "plt.legend(loc='upper right')\n",
    "plt.xlabel('K value')\n",
    "plt.ylabel('MSE')"
   ]
  },
  {
   "cell_type": "markdown",
   "metadata": {},
   "source": [
    "### b) Test your model:\n",
    "\n",
    "For the best k you found in (a), recreate your best model as best_knn and report it’s test MSE on the test set. "
   ]
  },
  {
   "cell_type": "code",
   "execution_count": 81,
   "metadata": {
    "ExecuteTime": {
     "end_time": "2019-12-13T17:59:49.282500Z",
     "start_time": "2019-12-13T17:59:49.277513Z"
    }
   },
   "outputs": [
    {
     "name": "stdout",
     "output_type": "stream",
     "text": [
      "KNeighborsRegressor()\n"
     ]
    }
   ],
   "source": [
    "#recreating KNN regression model with best k value\n",
    "best_knn = KNeighborsRegressor(n_neighbors=5)\n",
    "best_knn.fit(train_split_x, train_split_y)\n",
    "print(best_knn)"
   ]
  },
  {
   "cell_type": "code",
   "execution_count": 82,
   "metadata": {},
   "outputs": [
    {
     "name": "stdout",
     "output_type": "stream",
     "text": [
      "[[14421. ]\n",
      " [10992.6]\n",
      " [ 7324.1]\n",
      " [ 8202.8]\n",
      " [ 6959. ]\n",
      " [ 8996. ]\n",
      " [ 8015.4]\n",
      " [16746. ]\n",
      " [ 7800. ]\n",
      " [ 7947.6]\n",
      " [ 9300.6]\n",
      " [ 7339.4]\n",
      " [17351. ]\n",
      " [14923. ]\n",
      " [ 7944.6]\n",
      " [11669.4]\n",
      " [16977.4]\n",
      " [ 7010.2]\n",
      " [11511. ]\n",
      " [ 7339.4]\n",
      " [12316. ]\n",
      " [25572. ]\n",
      " [ 7076.4]\n",
      " [10992.6]\n",
      " [ 6346. ]\n",
      " [26181. ]\n",
      " [ 9015. ]\n",
      " [ 6678.8]\n",
      " [ 7163.3]\n",
      " [19753.6]\n",
      " [11957.2]]\n"
     ]
    }
   ],
   "source": [
    "knn_preds = best_knn.predict(val_split_x)\n",
    "print(knn_preds)"
   ]
  },
  {
   "cell_type": "code",
   "execution_count": 83,
   "metadata": {},
   "outputs": [
    {
     "name": "stdout",
     "output_type": "stream",
     "text": [
      "12896092.82136416\n"
     ]
    }
   ],
   "source": [
    "knn_mse = mean_squared_error(val_split_y, knn_preds)\n",
    "print(knn_mse)"
   ]
  },
  {
   "cell_type": "markdown",
   "metadata": {},
   "source": [
    "## DECISION TREE REGRESSOR TO PREDICT CAR PRICES\n",
    "\n",
    "In this part of the assignment, you are going to train a Decision Tree Regression model that predicts the prices of cars by using the other features in the dataset. When asked to retrieve the MSE score from GridSearchCV, set the scoring option to ‘neg_mean_square_error’. This will return a negative error. **To obtain MSE, get the absolute value**. "
   ]
  },
  {
   "cell_type": "markdown",
   "metadata": {},
   "source": [
    "### c) Grid Search to find best model:\n",
    "\n",
    "As decision trees have large hyper parameter sets, you will be using gridsearch to find the best combinations. Using the below parameters, run GridSearchCV (cv = 5) with a Decision Tree model on **train_x_e** and **train_y**. Print out the best model’s parameters and error. **Make sure you set random_state to 0**. \n",
    "\n",
    "<img src=\"image.png\">"
   ]
  },
  {
   "cell_type": "code",
   "execution_count": 84,
   "metadata": {},
   "outputs": [
    {
     "name": "stdout",
     "output_type": "stream",
     "text": [
      "{'max_depth': None, 'max_features': 'auto', 'max_leaf_nodes': 50, 'min_samples_split': 0.1, 'random_state': 0}\n",
      "11321462.259990446\n"
     ]
    }
   ],
   "source": [
    "from sklearn.model_selection import GridSearchCV\n",
    "from sklearn.tree import DecisionTreeClassifier\n",
    "from sklearn.tree import DecisionTreeRegressor\n",
    "from sklearn.model_selection import cross_val_score\n",
    "\n",
    "parameters = {'max_depth': [None, 1, 5, 10], 'min_samples_split': [0.01, 0.05, 0.1, 0.3 ], 'max_features': ['auto', 'sqrt', 'log2' ], 'max_leaf_nodes': [10, 50, 100, 250 ],'random_state':[0]}\n",
    "       \n",
    "\n",
    "decision_tree_grid = DecisionTreeRegressor(random_state =0)\n",
    "grid_search = GridSearchCV(decision_tree_grid, parameters, cv=5, scoring = 'neg_mean_squared_error')\n",
    "grid_search.fit(train_x_e, train_y)\n",
    "\n",
    "#findiing best parameters and mse\n",
    "best_gs = grid_search.best_params_\n",
    "print(best_gs)\n",
    "gs_mse = abs(grid_search.best_score_)\n",
    "print(gs_mse)"
   ]
  },
  {
   "cell_type": "markdown",
   "metadata": {},
   "source": [
    "### d) Test your model:\n",
    "\n",
    "Recreate your best Decision Tree model from (c) as best_tree and report it’s test MSE on the test set. "
   ]
  },
  {
   "cell_type": "code",
   "execution_count": 85,
   "metadata": {},
   "outputs": [
    {
     "name": "stdout",
     "output_type": "stream",
     "text": [
      "DecisionTreeRegressor(max_features='auto', max_leaf_nodes=50,\n",
      "                      min_samples_split=0.1, random_state=0)\n"
     ]
    }
   ],
   "source": [
    "#recreating best decision tree regression model with best parameters\n",
    "best_tree = DecisionTreeRegressor(max_depth= None, max_features ='auto', max_leaf_nodes= 50, min_samples_split =0.1, random_state =0)\n",
    "best_tree.fit(train_x_e,train_y)\n",
    "print(best_tree)"
   ]
  },
  {
   "cell_type": "code",
   "execution_count": 86,
   "metadata": {},
   "outputs": [
    {
     "name": "stdout",
     "output_type": "stream",
     "text": [
      "[20038.28571429 11007.93333333 35338.27272727 35338.27272727\n",
      " 35338.27272727 13900.46153846 35338.27272727 18285.1945\n",
      " 35338.27272727 11007.93333333 15291.4         6807.33333333\n",
      "  8279.26666667  6807.33333333 13900.46153846 13900.46153846\n",
      " 15291.4        11007.93333333 13900.46153846  8279.26666667\n",
      "  8039.45454545 11994.75       11994.75       13900.46153846\n",
      " 15291.4        22713.33333333  8279.26666667  8039.45454545\n",
      "  8039.45454545  8279.26666667  8039.45454545 35338.27272727\n",
      " 35338.27272727  8279.26666667  7442.15384615  8279.26666667\n",
      " 11007.93333333 15291.4         6672.85714286 20038.28571429]\n"
     ]
    }
   ],
   "source": [
    "tree_preds = best_tree.predict(test_x)\n",
    "print(tree_preds)"
   ]
  },
  {
   "cell_type": "code",
   "execution_count": 87,
   "metadata": {},
   "outputs": [
    {
     "name": "stdout",
     "output_type": "stream",
     "text": [
      "9779323.383824795\n"
     ]
    }
   ],
   "source": [
    "tree_mse = mean_squared_error(test_y, tree_preds )\n",
    "print(tree_mse)"
   ]
  },
  {
   "cell_type": "markdown",
   "metadata": {},
   "source": [
    "## ENSEMBLE BAGGING REGRESSOR TO PREDICT CAR PRICES\n",
    "\n",
    "In this part of the assignment, you are going to train a bagging ensemble model that predicts the prices of cars by using the other features in the dataset. When asked to retrieve the MSE score from GridSearchCV, set the scoring option to ‘neg_mean_square_error’. This will return a negative error. **To obtain MSE, get the absolute value**. "
   ]
  },
  {
   "cell_type": "markdown",
   "metadata": {},
   "source": [
    "### e) Grid Search to find best model:\n",
    "\n",
    "In order to utilize bagging ensembling in sklearn you will be working with sklearn.ensemble.BaggingRegressor. Using the below parameters, run GridSearchCV (cv = 5) on **train_x_e** and **train_y**. Print out the best model’s parameters and error. **Make sure you set random_state to 0**. \n",
    "\n",
    "<img src=\"image1.png\">"
   ]
  },
  {
   "cell_type": "code",
   "execution_count": 88,
   "metadata": {
    "ExecuteTime": {
     "end_time": "2019-12-13T18:09:52.935086Z",
     "start_time": "2019-12-13T18:09:52.931109Z"
    }
   },
   "outputs": [
    {
     "name": "stdout",
     "output_type": "stream",
     "text": [
      "{'base_estimator': DecisionTreeRegressor(random_state=0), 'bootstrap_features': True, 'n_estimators': 100, 'random_state': 0}\n",
      "8316074.607935673\n"
     ]
    }
   ],
   "source": [
    "from sklearn.ensemble import BaggingRegressor\n",
    "from sklearn.ensemble import BaggingClassifier\n",
    "from sklearn.linear_model import LinearRegression\n",
    "\n",
    "parameters = {'base_estimator':[LinearRegression(), KNeighborsRegressor(), DecisionTreeRegressor(random_state=0)],'n_estimators': [25, 50, 100, 250], 'bootstrap_features': [False, True], 'random_state':[0]}\n",
    "             \n",
    "bag_grid = BaggingRegressor(random_state =0)\n",
    "grid_search = GridSearchCV(bag_grid, parameters, cv=5, scoring = 'neg_mean_squared_error')\n",
    "grid_search.fit(train_x_e, train_y)\n",
    "\n",
    "#findiing best parameters and mse\n",
    "best_gs = grid_search.best_params_\n",
    "print(best_gs)\n",
    "gs_mse = abs(grid_search.best_score_)\n",
    "print(gs_mse)\n"
   ]
  },
  {
   "cell_type": "markdown",
   "metadata": {},
   "source": [
    "### f) Test your model:\n",
    "\n",
    "Recreate your best Ensemble Bagging model from (e) as best_bag and report it’s test MSE on the test set. "
   ]
  },
  {
   "cell_type": "code",
   "execution_count": 89,
   "metadata": {},
   "outputs": [
    {
     "data": {
      "text/plain": [
       "BaggingRegressor(base_estimator=DecisionTreeRegressor(presort=False,\n",
       "                                                      random_state=0),\n",
       "                 bootstrap_features=True, n_estimators=100, random_state=0)"
      ]
     },
     "execution_count": 89,
     "metadata": {},
     "output_type": "execute_result"
    }
   ],
   "source": [
    "#recreating model with best parameters\n",
    "best_bag = BaggingRegressor(base_estimator = DecisionTreeRegressor(criterion='mse', max_depth=None, max_features=None,\n",
    "                      max_leaf_nodes=None, min_impurity_decrease=0.0,\n",
    "                      min_impurity_split=None, min_samples_leaf=1,\n",
    "                      min_samples_split=2, min_weight_fraction_leaf=0.0,\n",
    "                      presort=False, random_state=0, splitter='best'), bootstrap_features =True, n_estimators=100, random_state = 0)\n",
    "best_bag.fit(train_x_e,train_y)"
   ]
  },
  {
   "cell_type": "code",
   "execution_count": 90,
   "metadata": {},
   "outputs": [
    {
     "name": "stdout",
     "output_type": "stream",
     "text": [
      "[17692.69167     9051.245      30240.53       33940.89\n",
      " 31578.28       12107.18       37425.45       16545.21668\n",
      " 26844.38333333 14910.66333333 14478.63        7410.28833333\n",
      "  8397.505       6695.94       11051.63       11021.31\n",
      " 16742.49500333 14842.94333333 16304.12333333  7951.95\n",
      "  9291.135      16079.39334    12043.24167    11843.51666667\n",
      " 16925.52668    19332.17        7811.062       8175.86\n",
      "  8002.1         8016.32666667  8476.26       30116.17\n",
      " 35113.76        7961.18        7524.5275      8469.19666667\n",
      " 10770.9        14135.83        6430.90116667 18939.41167   ]\n"
     ]
    }
   ],
   "source": [
    "bag_preds = best_bag.predict(test_x)\n",
    "print(bag_preds)"
   ]
  },
  {
   "cell_type": "code",
   "execution_count": 91,
   "metadata": {},
   "outputs": [
    {
     "name": "stdout",
     "output_type": "stream",
     "text": [
      "3964934.9923920305\n"
     ]
    }
   ],
   "source": [
    "bag_mse = mean_squared_error(test_y, bag_preds)\n",
    "print(bag_mse)"
   ]
  },
  {
   "cell_type": "markdown",
   "metadata": {},
   "source": [
    "## RANDOM FOREST REGRESSOR TO PREDICT CAR PRICES\n",
    "\n",
    "In this part of the assignment, you are going to train a random forest model that predicts the prices of cars by using the other features in the dataset. When asked to retrieve the MSE score from GridSearchCV, set the scoring option to ‘neg_mean_square_error’. This will return a negative error. **To obtain MSE, get the absolute value**."
   ]
  },
  {
   "cell_type": "markdown",
   "metadata": {},
   "source": [
    "### g) Grid Search to find best model:\n",
    "\n",
    "In order to utilize random forests in sklearn  you will be working with sklearn.ensemble.RandomForestRegressor. Using the below parameters, run GridSearchCV (cv = 5) with a Random Forest model on **train_x_e** and **train_y**. Print out the best model’s parameters and error. **Make sure you set random_state to 0**. \n",
    "\n",
    "<img src=\"image2.png\">"
   ]
  },
  {
   "cell_type": "code",
   "execution_count": 92,
   "metadata": {},
   "outputs": [
    {
     "name": "stdout",
     "output_type": "stream",
     "text": [
      "{'max_depth': None, 'n_estimators': 250, 'random_state': 0}\n",
      "8868912.73859477\n"
     ]
    }
   ],
   "source": [
    "from sklearn.ensemble import RandomForestRegressor\n",
    "parameters = {'n_estimators':[25, 50, 100, 250],'max_depth': [None, 1, 5, 10], 'random_state':[0]}\n",
    "             \n",
    "random_forest_grid = RandomForestRegressor(random_state =0)\n",
    "grid_search = GridSearchCV(random_forest_grid, parameters, cv=5, scoring = 'neg_mean_squared_error')\n",
    "grid_search.fit(train_x_e, train_y)\n",
    "\n",
    "\n",
    "best_gs = grid_search.best_params_\n",
    "print(best_gs)\n",
    "gs_mse = abs(grid_search.best_score_)\n",
    "print(gs_mse)\n"
   ]
  },
  {
   "cell_type": "markdown",
   "metadata": {},
   "source": [
    "### h) Test your model:\n",
    "\n",
    "Recreate your best Random Forest model from (g) as best_rf and report it’s test MSE on the test set. "
   ]
  },
  {
   "cell_type": "code",
   "execution_count": 93,
   "metadata": {},
   "outputs": [
    {
     "data": {
      "text/plain": [
       "RandomForestRegressor(n_estimators=250, random_state=0)"
      ]
     },
     "execution_count": 93,
     "metadata": {},
     "output_type": "execute_result"
    }
   ],
   "source": [
    "best_random_forest = RandomForestRegressor(max_depth= None, n_estimators= 250, random_state= 0)\n",
    "best_random_forest.fit(train_x_e,train_y)"
   ]
  },
  {
   "cell_type": "code",
   "execution_count": 94,
   "metadata": {},
   "outputs": [],
   "source": [
    "random_forest_preds = best_random_forest.predict(test_x)"
   ]
  },
  {
   "cell_type": "code",
   "execution_count": 95,
   "metadata": {},
   "outputs": [
    {
     "name": "stdout",
     "output_type": "stream",
     "text": [
      "4834633.740202937\n"
     ]
    }
   ],
   "source": [
    "random_forest_mse = mean_squared_error(test_y, random_forest_preds)\n",
    "print(random_forest_mse)"
   ]
  },
  {
   "cell_type": "markdown",
   "metadata": {},
   "source": [
    "### i) Feature Importances:\n",
    "\n",
    "Print out the three most important features according to your best model."
   ]
  },
  {
   "cell_type": "code",
   "execution_count": 96,
   "metadata": {},
   "outputs": [],
   "source": [
    "importances = best_random_forest.feature_importances_"
   ]
  },
  {
   "cell_type": "code",
   "execution_count": 97,
   "metadata": {},
   "outputs": [
    {
     "data": {
      "text/plain": [
       "array([ 5,  4, 12,  9,  2, 11,  1,  0,  7,  6, 10,  8,  3, 47, 18, 17, 25,\n",
       "       26, 20, 43, 15, 22, 31, 38, 16, 37, 21, 23, 33, 19, 35, 13, 29, 45,\n",
       "       36, 32, 24, 30, 48, 14, 28, 44, 34, 42, 27, 46, 41, 39, 40],\n",
       "      dtype=int64)"
      ]
     },
     "execution_count": 97,
     "metadata": {},
     "output_type": "execute_result"
    }
   ],
   "source": [
    "#sorting features indices from the most to the least according to their importance\n",
    "indices = np.argsort(importances)[::-1]\n",
    "indices"
   ]
  },
  {
   "cell_type": "code",
   "execution_count": 98,
   "metadata": {},
   "outputs": [
    {
     "data": {
      "text/plain": [
       "Index(['enginesize', 'curbweight', 'highwaympg'], dtype='object')"
      ]
     },
     "execution_count": 98,
     "metadata": {},
     "output_type": "execute_result"
    }
   ],
   "source": [
    "#finding three most important features\n",
    "train_x_e.columns[(indices)][0:3]"
   ]
  },
  {
   "cell_type": "code",
   "execution_count": null,
   "metadata": {},
   "outputs": [],
   "source": []
  }
 ],
 "metadata": {
  "kernelspec": {
   "display_name": "Python 3",
   "language": "python",
   "name": "python3"
  },
  "language_info": {
   "codemirror_mode": {
    "name": "ipython",
    "version": 3
   },
   "file_extension": ".py",
   "mimetype": "text/x-python",
   "name": "python",
   "nbconvert_exporter": "python",
   "pygments_lexer": "ipython3",
   "version": "3.7.9"
  },
  "toc": {
   "base_numbering": 1,
   "nav_menu": {},
   "number_sections": false,
   "sideBar": true,
   "skip_h1_title": false,
   "title_cell": "Table of Contents",
   "title_sidebar": "Contents",
   "toc_cell": false,
   "toc_position": {
    "height": "calc(100% - 180px)",
    "left": "10px",
    "top": "150px",
    "width": "284.444px"
   },
   "toc_section_display": true,
   "toc_window_display": false
  },
  "varInspector": {
   "cols": {
    "lenName": 16,
    "lenType": 16,
    "lenVar": 40
   },
   "kernels_config": {
    "python": {
     "delete_cmd_postfix": "",
     "delete_cmd_prefix": "del ",
     "library": "var_list.py",
     "varRefreshCmd": "print(var_dic_list())"
    },
    "r": {
     "delete_cmd_postfix": ") ",
     "delete_cmd_prefix": "rm(",
     "library": "var_list.r",
     "varRefreshCmd": "cat(var_dic_list()) "
    }
   },
   "types_to_exclude": [
    "module",
    "function",
    "builtin_function_or_method",
    "instance",
    "_Feature"
   ],
   "window_display": false
  }
 },
 "nbformat": 4,
 "nbformat_minor": 2
}
